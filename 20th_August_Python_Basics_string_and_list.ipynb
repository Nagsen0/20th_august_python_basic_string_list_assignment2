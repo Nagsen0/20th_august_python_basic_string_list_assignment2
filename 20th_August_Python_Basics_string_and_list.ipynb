{
 "cells": [
  {
   "cell_type": "raw",
   "id": "f5bfbc88-48be-4f87-b955-4a8f7b8dfd3e",
   "metadata": {},
   "source": [
    "String Based Assignment Problem"
   ]
  },
  {
   "cell_type": "raw",
   "id": "ab1484f2-be3a-4d1b-94b9-d718cdf8e544",
   "metadata": {},
   "source": [
    "1. Write a program to reverse a string."
   ]
  },
  {
   "cell_type": "code",
   "execution_count": 1,
   "id": "13354e95-0cd7-4af8-addb-6532ce1b30ed",
   "metadata": {},
   "outputs": [
    {
     "name": "stdout",
     "output_type": "stream",
     "text": [
      "tsitneics atad eradnahk nesgan\n"
     ]
    }
   ],
   "source": [
    "string='nagsen khandare data scientist'\n",
    "\n",
    "reverse_string=string[::-1]\n",
    "\n",
    "print(reverse_string)"
   ]
  },
  {
   "cell_type": "raw",
   "id": "1a11a300-97e7-464f-b0d8-f4d693709f0e",
   "metadata": {},
   "source": [
    "2. Check if a string is a palindrome."
   ]
  },
  {
   "cell_type": "code",
   "execution_count": 9,
   "id": "2a16f947-8f9d-4242-b0cf-625ad9a3d2a1",
   "metadata": {},
   "outputs": [
    {
     "name": "stdin",
     "output_type": "stream",
     "text": [
      "Enter a string: madam\n"
     ]
    },
    {
     "name": "stdout",
     "output_type": "stream",
     "text": [
      "madam is a palindrome.\n"
     ]
    }
   ],
   "source": [
    "# Function to check if a string is a palindrome\n",
    "\n",
    "def is_palindrome(input_string):\n",
    "    # Remove spaces and convert the string to lowercase for case-insensitive comparison\n",
    "    \n",
    "    cleaned_string=input_string.replace(' ','').lower()\n",
    "    \n",
    "    # Compare the original string with its reverse\n",
    "    \n",
    "    return cleaned_string==cleaned_string[::-1]\n",
    "\n",
    "# Input string\n",
    "input_string=input('Enter a string:')\n",
    "\n",
    "# Check if it's a palindrome and print the result\n",
    "\n",
    "if is_palindrome(input_string):\n",
    "    print(f'{input_string} is a palindrome.')\n",
    "else:\n",
    "    print(f'{input_string} is not a palindrome.')\n"
   ]
  },
  {
   "cell_type": "raw",
   "id": "e37f542c-6cf3-4750-b55a-9a68f7df05e3",
   "metadata": {},
   "source": [
    "3. Convert a string to uppercase"
   ]
  },
  {
   "cell_type": "code",
   "execution_count": 15,
   "id": "b096e9ed-7e34-44f0-950b-4d7a8038d361",
   "metadata": {},
   "outputs": [
    {
     "name": "stdout",
     "output_type": "stream",
     "text": [
      "DATA SCIENCE PRO\n"
     ]
    }
   ],
   "source": [
    "# define a string\n",
    "\n",
    "string='Data Science Pro'\n",
    "\n",
    "# converting it to uppercase\n",
    "\n",
    "upper_string= string.upper()\n",
    "\n",
    "print(upper_string)"
   ]
  },
  {
   "cell_type": "raw",
   "id": "28b08826-fc5a-4566-ae2c-2749a5f8f805",
   "metadata": {},
   "source": [
    "4. Convert a string to lowercase"
   ]
  },
  {
   "cell_type": "code",
   "execution_count": 16,
   "id": "bc7ddc28-f0e6-4a3f-9a85-2e1751566ecf",
   "metadata": {},
   "outputs": [
    {
     "name": "stdout",
     "output_type": "stream",
     "text": [
      "data science pro\n"
     ]
    }
   ],
   "source": [
    "string='DATA SCIENCE PRO'\n",
    "\n",
    "lower_string= string.lower()\n",
    "\n",
    "print(lower_string)"
   ]
  },
  {
   "cell_type": "raw",
   "id": "4e85f66c-4819-4259-99a1-bff66e03e0a3",
   "metadata": {},
   "source": [
    "5. Count the number of vowels in a string."
   ]
  },
  {
   "cell_type": "code",
   "execution_count": 46,
   "id": "d35dcf03-b81b-4a34-b49f-259da691d623",
   "metadata": {},
   "outputs": [
    {
     "name": "stdin",
     "output_type": "stream",
     "text": [
      "Enter a string: nagsen khandare\n"
     ]
    },
    {
     "name": "stdout",
     "output_type": "stream",
     "text": [
      "The number of vowels in the string are 5\n"
     ]
    }
   ],
   "source": [
    "# Define a function to count vowels\n",
    "\n",
    "def count_vowel(input_string):\n",
    "    \n",
    "    # Initialize a variable to count vowels\n",
    "    \n",
    "    count_vowel=0\n",
    "    \n",
    "    # Create a set of vowels \n",
    "    \n",
    "    vowels=set('aeiouAEIOU')\n",
    "    \n",
    "    for  char in input_string:\n",
    "        \n",
    "        if char in vowels:\n",
    "            \n",
    "        \n",
    "           count_vowel+=1\n",
    "        \n",
    "    return count_vowel\n",
    "        \n",
    "        \n",
    "        \n",
    "# input string\n",
    "    \n",
    "input_string=input('Enter a string:')\n",
    "    \n",
    "# print the result\n",
    "    \n",
    "result= count_vowel(input_string)\n",
    "    \n",
    "print(f'The number of vowels in the string are {result}')\n",
    "        \n",
    "    \n",
    "    \n",
    "    \n",
    "    \n",
    "    \n",
    "    \n",
    "    "
   ]
  },
  {
   "cell_type": "raw",
   "id": "db85668d-c775-4d14-a4b2-4f9cc491da2f",
   "metadata": {},
   "source": [
    "6. Count the number of consonants in a string."
   ]
  },
  {
   "cell_type": "code",
   "execution_count": 51,
   "id": "4483e758-8455-4c23-9490-6dc9ab783ec2",
   "metadata": {},
   "outputs": [
    {
     "name": "stdin",
     "output_type": "stream",
     "text": [
      "Enter a string: data science pro 15000\n"
     ]
    },
    {
     "name": "stdout",
     "output_type": "stream",
     "text": [
      "The string contains 8 consonant\n"
     ]
    }
   ],
   "source": [
    "# Define a function to count consonant\n",
    "\n",
    "def count_consonant(input_string):\n",
    "        \n",
    "    # Initialize a variable to consonant count\n",
    "    \n",
    "    consonant_count=0\n",
    "    \n",
    "    # Create a set of vowels i e not consonant\n",
    "    \n",
    "    vowels=set('aeiouAEIOU')\n",
    "    \n",
    "    # Iterate through input string\n",
    "    \n",
    "    for char in input_string:\n",
    "        \n",
    "        if char.isalpha() and char not in vowels:\n",
    "    \n",
    "            consonant_count+=1\n",
    "            \n",
    "    return consonant_count\n",
    "\n",
    "# input string\n",
    "input_string= input('Enter a string:')\n",
    "\n",
    "# print the result\n",
    "\n",
    "result= count_consonant(input_string)\n",
    "\n",
    "print(f'The string contains {result} consonant')"
   ]
  },
  {
   "cell_type": "raw",
   "id": "6bf8c57f-0ee4-4bdf-867d-22e71fc94681",
   "metadata": {},
   "source": [
    "7. Remove all whitespaces from a string."
   ]
  },
  {
   "cell_type": "code",
   "execution_count": 1,
   "id": "7d89210d-879f-40f0-9646-13e0c95744be",
   "metadata": {},
   "outputs": [
    {
     "name": "stdout",
     "output_type": "stream",
     "text": [
      "fullstackdatasciencepro\n"
     ]
    }
   ],
   "source": [
    "string='full stack data science pro'\n",
    "\n",
    "cleaned_string=string.replace(' ','')\n",
    "\n",
    "print(cleaned_string)"
   ]
  },
  {
   "cell_type": "raw",
   "id": "76764237-4b35-40d6-9357-9eb6c49f9c02",
   "metadata": {},
   "source": [
    "8. Find the length of the string without using the len() function."
   ]
  },
  {
   "cell_type": "code",
   "execution_count": 2,
   "id": "8595c17b-34e2-40c4-9eed-c41f47ace7bd",
   "metadata": {},
   "outputs": [
    {
     "name": "stdin",
     "output_type": "stream",
     "text": [
      "enter a string: full stack data science pro\n"
     ]
    },
    {
     "name": "stdout",
     "output_type": "stream",
     "text": [
      "The length of given string is: 27\n"
     ]
    }
   ],
   "source": [
    "def string_length(input_string):\n",
    "    count=0\n",
    "    for char in input_string:\n",
    "        count+=1\n",
    "    return count\n",
    "\n",
    "input_string=input('enter a string:')\n",
    "length=string_length(input_string)\n",
    "\n",
    "print(f'The length of given string is: {length}')\n",
    "    "
   ]
  },
  {
   "cell_type": "raw",
   "id": "a3e460e9-ff5c-4fbc-bd10-8952ffde05b6",
   "metadata": {},
   "source": [
    "9. Check if a string contains a specific word."
   ]
  },
  {
   "cell_type": "code",
   "execution_count": 11,
   "id": "747d7035-0ec2-4b7e-900f-d6df324d3383",
   "metadata": {},
   "outputs": [
    {
     "name": "stdin",
     "output_type": "stream",
     "text": [
      "enter a string: nagsen khandare pro data scientist\n",
      "enter a word to check: pro\n"
     ]
    },
    {
     "name": "stdout",
     "output_type": "stream",
     "text": [
      "The string contains the given word: pro\n"
     ]
    }
   ],
   "source": [
    "def check_str_word(input_string):\n",
    "    input_string=input('enter a string:')\n",
    "    specific_word= input('enter a word to check:')\n",
    "    \n",
    "    if specific_word in input_string:\n",
    "        print(f'The string contains the given word: {specific_word}')\n",
    "    else:\n",
    "        print('The string does not contains the given word.')\n",
    "        \n",
    "\n",
    "result=check_str_word(input_string)\n",
    "\n",
    "    "
   ]
  },
  {
   "cell_type": "raw",
   "id": "4d8f5456-4b16-49fb-9eec-825741ce3a08",
   "metadata": {},
   "source": [
    "10. Replace a word in a string with another word."
   ]
  },
  {
   "cell_type": "code",
   "execution_count": 20,
   "id": "fd9a4789-e418-4015-a864-cb3e2b4c1514",
   "metadata": {},
   "outputs": [
    {
     "name": "stdout",
     "output_type": "stream",
     "text": [
      "The string with replaced word is: nagsen khandare pro max data scientist\n"
     ]
    }
   ],
   "source": [
    "def replace_str_word(input_string):\n",
    "    input_string='nagsen khandare pro data scientist'\n",
    "    replace_word=input_string.replace('pro','pro max')\n",
    "    \n",
    "    \n",
    "    print(f'The string with replaced word is: {replace_word}')\n",
    "    \n",
    "result=replace_str_word(input_string)"
   ]
  },
  {
   "cell_type": "raw",
   "id": "e8814f36-a6aa-4657-b4ce-1a2513febb3c",
   "metadata": {},
   "source": [
    "11. Count the occurrences of a word in a string."
   ]
  },
  {
   "cell_type": "code",
   "execution_count": 32,
   "id": "1587f8b8-2474-4a78-8dd5-7b4a7cb41ddd",
   "metadata": {},
   "outputs": [
    {
     "name": "stdin",
     "output_type": "stream",
     "text": [
      "enter a string: data science pro, pro data scientist, data analyst\n",
      "enter a word to count: data\n"
     ]
    },
    {
     "name": "stdout",
     "output_type": "stream",
     "text": [
      "The occurrence of given word in a string: 3\n"
     ]
    }
   ],
   "source": [
    "def count_word(input_string,word_count):\n",
    "    \n",
    "    # convert it to lowercase to make  cese_insensitive comparison\n",
    "    input_string=input_string.lower()\n",
    "    word_count=word_count.lower()\n",
    "    count=input_string.count(word_count)\n",
    "    \n",
    "    if word_count in input_string:\n",
    "        \n",
    "        return count\n",
    "     \n",
    "input_string=input('enter a string:')\n",
    "word_count=input('enter a word to count:')     \n",
    "count=input_string.count(word_count)        \n",
    "        \n",
    "result=count_word(input_string,word_count)\n",
    "\n",
    "\n",
    "if count:\n",
    "    print(f'The occurrence of given word in a string: {result}')\n",
    "else:\n",
    "    print('The given word is not found in the string.')          \n",
    "            "
   ]
  },
  {
   "cell_type": "raw",
   "id": "555373a6-ea7f-490b-b434-88652252cf39",
   "metadata": {},
   "source": [
    "12. Find the first occurrence of a word in a string."
   ]
  },
  {
   "cell_type": "code",
   "execution_count": 23,
   "id": "bfccd0eb-1de8-44d8-9ba8-03313424af77",
   "metadata": {},
   "outputs": [
    {
     "name": "stdin",
     "output_type": "stream",
     "text": [
      "enter a string: want to be data scientist, pro data scientist\n",
      "enter a word: DATA\n"
     ]
    },
    {
     "name": "stdout",
     "output_type": "stream",
     "text": [
      "The first occurrence of the given word is: 11\n"
     ]
    }
   ],
   "source": [
    "def first_occurrence_word(input_string,target_word):\n",
    "    input_string=input_string.lower()\n",
    "    target_word=target_word.lower()\n",
    "    \n",
    "    index=input_string.find(target_word)\n",
    "    \n",
    "    return index\n",
    "\n",
    "input_string=input('enter a string:')\n",
    "target_word=input('enter a word:')\n",
    "\n",
    "first_occurrence_index=first_occurrence_word(input_string,target_word)\n",
    "if first_occurrence_index!=-1:\n",
    "    print(f'The first occurrence of the given word is: {first_occurrence_index}')\n",
    "    \n",
    "else:\n",
    "    print(f'The given word is not found in the string.')\n",
    "   "
   ]
  },
  {
   "cell_type": "raw",
   "id": "b7cc8d99-10dc-4ad2-8095-65d145965bb3",
   "metadata": {},
   "source": [
    "13. Find the last occurrence of a word in a string."
   ]
  },
  {
   "cell_type": "code",
   "execution_count": 28,
   "id": "200f6658-e526-45c9-be1c-a37116311666",
   "metadata": {},
   "outputs": [
    {
     "name": "stdout",
     "output_type": "stream",
     "text": [
      "The last occurrence of the given word is: 18\n"
     ]
    }
   ],
   "source": [
    "def last_occurrence_word(input_string,target_word):\n",
    "    \n",
    "    input_string=input_string.lower()\n",
    "    target_word=target_word.lower()\n",
    "    \n",
    "    index=input_string.rfind(target_word)\n",
    "    \n",
    "    return index\n",
    "\n",
    "input_string='data science pro, data scientist max pro'\n",
    "target_word='data'\n",
    "\n",
    "last_occurrence_index=last_occurrence_word(input_string,target_word)\n",
    "if last_occurrence_index!=-1:\n",
    "    print(f'The last occurrence of the given word is: {last_occurrence_index}')\n",
    "else:\n",
    "    print('The word not found in the string')"
   ]
  },
  {
   "cell_type": "raw",
   "id": "96833ead-0022-468a-b049-0b8249c6996e",
   "metadata": {},
   "source": [
    "14. Split a string into a list of words."
   ]
  },
  {
   "cell_type": "code",
   "execution_count": 39,
   "id": "e2b77ae6-ee57-4c48-b0b9-868edf33f70d",
   "metadata": {},
   "outputs": [
    {
     "name": "stdout",
     "output_type": "stream",
     "text": [
      "The splited list of the words is: ['nagsen', 'khandare', 'a', 'pro', 'data', 'scientist']\n"
     ]
    }
   ],
   "source": [
    "def split_str_lst(input_string):\n",
    "    \n",
    "    input_string='nagsen khandare a pro data scientist'\n",
    "    lst=input_string.split()\n",
    "    return lst\n",
    "    \n",
    "    \n",
    "word_lst=split_str_lst(input_string)\n",
    "print(f'The splited list of the words is: {word_lst}')"
   ]
  },
  {
   "cell_type": "raw",
   "id": "abdc55d9-eb9c-445f-b672-de663c499cb3",
   "metadata": {},
   "source": [
    "15. Join a list of words into a string."
   ]
  },
  {
   "cell_type": "code",
   "execution_count": 1,
   "id": "30a86e0d-c430-4a66-aa72-7d524596a27d",
   "metadata": {},
   "outputs": [
    {
     "name": "stdout",
     "output_type": "stream",
     "text": [
      "Full stack data science pro\n"
     ]
    }
   ],
   "source": [
    "lst=['Full','stack','data','science','pro']\n",
    "\n",
    "string= ' '.join(lst)\n",
    "\n",
    "print(string)"
   ]
  },
  {
   "cell_type": "raw",
   "id": "ecb2a5f4-5548-4cec-8ab4-c79d826dafb5",
   "metadata": {},
   "source": [
    "16. Convert a string where words are separated by spaces to one where words are separated by underscores."
   ]
  },
  {
   "cell_type": "code",
   "execution_count": 7,
   "id": "c1a9641e-f6ae-42ab-a5c3-d60b9e65b3bb",
   "metadata": {},
   "outputs": [
    {
     "name": "stdout",
     "output_type": "stream",
     "text": [
      "full_stack_data_science_altra_pro_max\n"
     ]
    }
   ],
   "source": [
    "string='full stack data science altra pro max'\n",
    "\n",
    "underscore_string=string.replace(' ','_')\n",
    "\n",
    "print(underscore_string)"
   ]
  },
  {
   "cell_type": "raw",
   "id": "32c29a10-10b5-4dd4-9297-393f6249a1e6",
   "metadata": {},
   "source": [
    "17. Check if a string starts with the specific word or phrase."
   ]
  },
  {
   "cell_type": "code",
   "execution_count": 48,
   "id": "c2c55ad0-7c14-412d-9d40-1be5d19c4414",
   "metadata": {},
   "outputs": [
    {
     "name": "stdin",
     "output_type": "stream",
     "text": [
      "enter a string: india will win asia cup\n",
      "enter a word: India\n"
     ]
    },
    {
     "name": "stdout",
     "output_type": "stream",
     "text": [
      "The string starts with the given word or phrase.\n"
     ]
    }
   ],
   "source": [
    "def start_with_word(input_strin,target_word):\n",
    "    \n",
    "    first_word=input_string.startswith(target_word)\n",
    "    return first_word\n",
    "\n",
    "input_string=input('enter a string:')\n",
    "target_word=input('enter a word:')\n",
    "input_string=input_string.lower()\n",
    "target_word=target_word.lower()\n",
    "\n",
    "result=start_with_word(input_string,target_word)\n",
    "\n",
    "if result:\n",
    "    print('The string starts with the given word or phrase.')\n",
    "else:\n",
    "    print('The string not starts with the given word or phrase.')\n",
    "    "
   ]
  },
  {
   "cell_type": "raw",
   "id": "1e05d952-7fb2-4ecf-9ec0-ae601825e0ee",
   "metadata": {},
   "source": [
    "18. Check if a string ends with a specific word or phrase."
   ]
  },
  {
   "cell_type": "code",
   "execution_count": 51,
   "id": "84fae0d8-785a-4ec4-8f7a-fb1179610b3f",
   "metadata": {},
   "outputs": [
    {
     "name": "stdout",
     "output_type": "stream",
     "text": [
      "The string ends with the given word or phrase.\n"
     ]
    }
   ],
   "source": [
    "def ends_with_word(input_string,target_word):\n",
    "\n",
    "    end_word=input_string.endswith(target_word)\n",
    "    return end_word\n",
    "\n",
    "input_string='India can win the world cup'\n",
    "target_word='Cup'\n",
    "input_string=input_string.lower()\n",
    "target_word=target_word.lower()\n",
    "\n",
    "result=ends_with_word(input_string,target_word)\n",
    "\n",
    "if result:\n",
    "    print('The string ends with the given word or phrase.')\n",
    "else:\n",
    "    print('The string not ends with the given word or phrase.')"
   ]
  },
  {
   "cell_type": "raw",
   "id": "d3e0d7b6-0b03-4b23-a510-90f52c3357c7",
   "metadata": {},
   "source": [
    "19. Conver a string to title case(e.g., 'hello world' to 'Hello World')."
   ]
  },
  {
   "cell_type": "code",
   "execution_count": 61,
   "id": "ea2e24d5-16ee-407a-8383-76b8726f2276",
   "metadata": {},
   "outputs": [
    {
     "name": "stdout",
     "output_type": "stream",
     "text": [
      "Indian Football Club\n"
     ]
    }
   ],
   "source": [
    "str='indian football club'\n",
    "\n",
    "title_str=str.title()\n",
    "\n",
    "print(title_str)"
   ]
  },
  {
   "cell_type": "raw",
   "id": "59319eee-4841-4a5b-a174-9d198326d988",
   "metadata": {},
   "source": [
    "20. Find the longest word in a string."
   ]
  },
  {
   "cell_type": "code",
   "execution_count": 16,
   "id": "be08a87f-83d6-4929-ae11-651864d73cb6",
   "metadata": {},
   "outputs": [
    {
     "name": "stdin",
     "output_type": "stream",
     "text": [
      "enter a string: finaly india win the asia cup 2023\n"
     ]
    },
    {
     "name": "stdout",
     "output_type": "stream",
     "text": [
      "The longest word in the string is: finaly\n"
     ]
    }
   ],
   "source": [
    "def find_longest_word(input_string):\n",
    "    words=input_string.split()\n",
    "    longest_word=''\n",
    "    \n",
    "    for word in words:\n",
    "        if len(word)>len(longest_word):\n",
    "            \n",
    "            longest_word=word\n",
    "            \n",
    "    return longest_word\n",
    "\n",
    "input_string=input('enter a string:')\n",
    "\n",
    "result=find_longest_word(input_string)\n",
    "\n",
    "print(f'The longest word in the string is: {result}')"
   ]
  },
  {
   "cell_type": "raw",
   "id": "240e4675-c9b7-4cab-a93a-62489c5e02ce",
   "metadata": {},
   "source": [
    "21. Find the shortest word in a string."
   ]
  },
  {
   "cell_type": "code",
   "execution_count": 58,
   "id": "f2e61fbc-03bc-4ab8-886d-2b951810e7c9",
   "metadata": {},
   "outputs": [
    {
     "name": "stdout",
     "output_type": "stream",
     "text": [
      "The shortest word in the string is: to\n"
     ]
    }
   ],
   "source": [
    "def find_shortest_word(input_string):\n",
    "    words=input_string.split()\n",
    "    shortest_word=None\n",
    "    \n",
    "    for word in words:\n",
    "        if  shortest_word is None or len(word)<len(shortest_word):\n",
    "            \n",
    "            shortest_word=word\n",
    "            \n",
    "    return shortest_word\n",
    "\n",
    "input_string='Indian football team going to play in next world cup'\n",
    "result=find_shortest_word(input_string)\n",
    "print(f'The shortest word in the string is: {result}')"
   ]
  },
  {
   "cell_type": "raw",
   "id": "4b2d3eb4-5db6-4cf9-a2ea-c4b87be9b616",
   "metadata": {},
   "source": [
    "22. Reverse the order of words in a string."
   ]
  },
  {
   "cell_type": "code",
   "execution_count": 72,
   "id": "17dd9079-3640-4b2d-a323-f890832e2368",
   "metadata": {},
   "outputs": [
    {
     "name": "stdin",
     "output_type": "stream",
     "text": [
      "enter a string: full stack data science pro\n"
     ]
    },
    {
     "name": "stdout",
     "output_type": "stream",
     "text": [
      "The string with the reversed order of the words is: pro science data stack full\n"
     ]
    }
   ],
   "source": [
    "def reverse_words(input_string):\n",
    "    words=input_string.split()\n",
    "    reverse_words=words[::-1]\n",
    "    reversed_string=' '.join(reverse_words)\n",
    "    \n",
    "    return reversed_string\n",
    "\n",
    "input_string=input('enter a string:')\n",
    "\n",
    "result=reverse_words(input_string)\n",
    "\n",
    "print(f'The string with the reversed order of the words is: {result}')"
   ]
  },
  {
   "cell_type": "raw",
   "id": "2e466011-61c8-4d73-b80a-d6b8db68fa04",
   "metadata": {},
   "source": [
    "23. Check if a string is alphanumeric."
   ]
  },
  {
   "cell_type": "code",
   "execution_count": 103,
   "id": "d49978e4-7947-468e-90c1-b4a0203e6539",
   "metadata": {},
   "outputs": [
    {
     "name": "stdin",
     "output_type": "stream",
     "text": [
      "enter a string: hellow123\n"
     ]
    },
    {
     "name": "stdout",
     "output_type": "stream",
     "text": [
      "The given string is alphanumeric.\n"
     ]
    }
   ],
   "source": [
    "def is_alphanumeric(input_string):\n",
    "    \n",
    "    return input_string.isalnum()\n",
    "\n",
    "input_string=input('enter a string:')\n",
    "\n",
    "result=is_alphanumeric(input_string)\n",
    "\n",
    "if result:\n",
    "    print('The given string is alphanumeric.')\n",
    "else:\n",
    "    print('The given string is not alphanumeric.')\n"
   ]
  },
  {
   "cell_type": "raw",
   "id": "eed034f3-1447-4baf-8ff6-26d2cadff4e4",
   "metadata": {},
   "source": [
    "24. Extract all digits from a string."
   ]
  },
  {
   "cell_type": "code",
   "execution_count": 118,
   "id": "355c26a1-6570-4a66-a5c3-90cc6403dccf",
   "metadata": {},
   "outputs": [
    {
     "name": "stdin",
     "output_type": "stream",
     "text": [
      "enter a string: full 345 stack567 data 878 science00 pro @#\n"
     ]
    },
    {
     "name": "stdout",
     "output_type": "stream",
     "text": [
      "The extracted numbers from a string are: ['3', '4', '5', '5', '6', '7', '8', '7', '8', '0', '0']\n"
     ]
    }
   ],
   "source": [
    "def extract_digits(input_string):\n",
    "    digits=[]\n",
    "    for char in input_string:\n",
    "        if char.isnumeric():\n",
    "            digits.append(char)\n",
    "    return digits\n",
    "\n",
    "input_string=input('enter a string:')\n",
    "\n",
    "result=extract_digits(input_string)\n",
    "\n",
    "print(f'The extracted numbers from a string are: {result}')\n",
    "        "
   ]
  },
  {
   "cell_type": "raw",
   "id": "f7867ad1-b721-4ece-a011-1a6150191ad0",
   "metadata": {},
   "source": [
    "25. Extract all alphabets from a string."
   ]
  },
  {
   "cell_type": "code",
   "execution_count": 133,
   "id": "da8122d7-db5d-48da-9afe-0eda97a1c281",
   "metadata": {},
   "outputs": [
    {
     "name": "stdout",
     "output_type": "stream",
     "text": [
      "The extracted alphabets from a string are: D,a,t,a,s,c,i,e,n,c,e,p,r,o\n"
     ]
    }
   ],
   "source": [
    "def extract_all_alpha(input_string):\n",
    "    alphabets=','.join(char for char in input_string if char.isalpha()) \n",
    "    return alphabets\n",
    "input_string='Data287 science 98 pro'\n",
    "\n",
    "result=extract_all_alpha(input_string)\n",
    "\n",
    "print(f'The extracted alphabets from a string are: {result}')"
   ]
  },
  {
   "cell_type": "raw",
   "id": "8c35e416-014f-420c-b49c-3cb43dc07691",
   "metadata": {},
   "source": [
    "26. Count the number of uppercase letters in a string."
   ]
  },
  {
   "cell_type": "code",
   "execution_count": 39,
   "id": "53065aa3-8d11-43d3-a87d-9e1d3bdba816",
   "metadata": {},
   "outputs": [
    {
     "name": "stdin",
     "output_type": "stream",
     "text": [
      "enter a string: Nagsen Khandare Data Scientist\n"
     ]
    },
    {
     "name": "stdout",
     "output_type": "stream",
     "text": [
      "The number of uppercase letters in the string: 4\n"
     ]
    }
   ],
   "source": [
    "def count_upper_letter(input_string):\n",
    "    l=0\n",
    "    for char in input_string:\n",
    "        if char.isupper():\n",
    "            l+=1\n",
    "    return l\n",
    "\n",
    "input_string=input('enter a string:')\n",
    "\n",
    "result= count_upper_letter(input_string)\n",
    "\n",
    "print(f'The number of uppercase letters in the string: {result}')\n",
    "    "
   ]
  },
  {
   "cell_type": "raw",
   "id": "a652a306-2a21-4fbd-92fe-083670376433",
   "metadata": {},
   "source": [
    "27. Count the number of lowercase letters in a string."
   ]
  },
  {
   "cell_type": "code",
   "execution_count": 41,
   "id": "be8f8f0d-db9f-49fa-baa0-c0c6f24b244f",
   "metadata": {},
   "outputs": [
    {
     "name": "stdout",
     "output_type": "stream",
     "text": [
      "The number of lowercase letters in a string are: 23\n"
     ]
    }
   ],
   "source": [
    "def count_lower_letters(input_string):\n",
    "    l=0\n",
    "    for char in input_string:\n",
    "        if char.islower():\n",
    "            l+=1\n",
    "    return l\n",
    "\n",
    "input_string='Nagsen Khandare Data Scientist'\n",
    "\n",
    "result=count_lower_letters(input_string)\n",
    "print(f'The number of lowercase letters in a string are: {result}')"
   ]
  },
  {
   "cell_type": "raw",
   "id": "bddb9b57-3c6e-4f55-a81d-741c1cf2351b",
   "metadata": {},
   "source": [
    "28. Swap the case of each character in a string."
   ]
  },
  {
   "cell_type": "code",
   "execution_count": 44,
   "id": "9ba4c489-7b1e-4949-96fc-ca2daf2cb41e",
   "metadata": {},
   "outputs": [
    {
     "name": "stdout",
     "output_type": "stream",
     "text": [
      "The swapcase string: aRTIFICIAL iNTELIGENCE\n"
     ]
    }
   ],
   "source": [
    "string='Artificial Inteligence'\n",
    "\n",
    "swapcase=string.swapcase()\n",
    "\n",
    "print(f'The swapcase string: {swapcase}')"
   ]
  },
  {
   "cell_type": "raw",
   "id": "c2d37bda-d1bd-4556-a5dc-7847b7fdd00e",
   "metadata": {},
   "source": [
    "29. Remove a specific word from a string."
   ]
  },
  {
   "cell_type": "code",
   "execution_count": 68,
   "id": "2e65ce80-fdbc-4f09-93d4-6777f3923209",
   "metadata": {},
   "outputs": [
    {
     "name": "stdin",
     "output_type": "stream",
     "text": [
      "enter target word: Pro\n"
     ]
    },
    {
     "name": "stdout",
     "output_type": "stream",
     "text": [
      "The string after removing a word: nagsen khandare  data scientist\n"
     ]
    }
   ],
   "source": [
    "def remove_word(input_string,target_word):\n",
    "    input_string=input_string.lower()\n",
    "    target_word=target_word.lower()\n",
    "    new_string=input_string.replace(target_word,'')\n",
    "    return new_string\n",
    "\n",
    "input_string='Nagsen Khandare pro data scientist'\n",
    "target_word=input('enter target word:')\n",
    "\n",
    "result=remove_word(input_string,target_word)\n",
    "\n",
    "print(f'The string after removing a word: {result}')"
   ]
  },
  {
   "cell_type": "raw",
   "id": "35ef8b9d-6661-4031-aee8-eefe2acaaed7",
   "metadata": {},
   "source": [
    "30. Check if a string is a valid email address."
   ]
  },
  {
   "cell_type": "code",
   "execution_count": 5,
   "id": "17ce354e-c6af-432c-89c8-917f71edfa2f",
   "metadata": {},
   "outputs": [
    {
     "name": "stdin",
     "output_type": "stream",
     "text": [
      "enter a email: nagsenkhandare@gmail.com\n"
     ]
    },
    {
     "name": "stdout",
     "output_type": "stream",
     "text": [
      "The email is valid.\n"
     ]
    }
   ],
   "source": [
    "import re\n",
    "def is_valid_email(email):\n",
    "    # Define a regular expression pattern for a valid email address\n",
    "    pattern = r'^[\\w\\.-]+@[\\w\\.-]+\\.\\w+$'\n",
    "    \n",
    "    # Check if the email matches the pattern\n",
    "    if re.match(pattern,email):\n",
    "        return True\n",
    "    else:\n",
    "        return False\n",
    "    \n",
    "email=input('enter a email:')\n",
    "result=is_valid_email(email)\n",
    "if result:\n",
    "    print('The email is valid.')\n",
    "else:\n",
    "    print('The email is not valid.')\n"
   ]
  },
  {
   "cell_type": "raw",
   "id": "8e87974a-e85a-42c5-9fd9-5203eebb7f3e",
   "metadata": {},
   "source": [
    "31. Extract the username from an email address string."
   ]
  },
  {
   "cell_type": "code",
   "execution_count": 24,
   "id": "b6c3a48d-8856-4979-8d4c-b275b833323c",
   "metadata": {},
   "outputs": [
    {
     "name": "stdin",
     "output_type": "stream",
     "text": [
      "enter email: nagsen@gmail.com\n"
     ]
    },
    {
     "name": "stdout",
     "output_type": "stream",
     "text": [
      "username: nagsen\n"
     ]
    }
   ],
   "source": [
    "def extract_username(email):\n",
    "    # Split the username\n",
    "    split=email.split('@')\n",
    "    \n",
    "    # check if the email has expected format(username@domain)\n",
    "    \n",
    "    if len(split)==2:\n",
    "        return split[0]\n",
    "    else:\n",
    "        return None # Invalid email format\n",
    "\n",
    "email=input('enter email:')\n",
    "result=extract_username(email)\n",
    "if result is not None:\n",
    "    print('username:',result)\n",
    "else:\n",
    "    print('Invalid email.')"
   ]
  },
  {
   "cell_type": "raw",
   "id": "b4e7a9d8-0f7c-47ec-a87d-23ea32bf94ea",
   "metadata": {},
   "source": [
    "32. Extract the domain name from an email address string."
   ]
  },
  {
   "cell_type": "code",
   "execution_count": 26,
   "id": "2c848d2e-adb7-4963-851f-fc3120b11b45",
   "metadata": {},
   "outputs": [
    {
     "name": "stdin",
     "output_type": "stream",
     "text": [
      "enter email: sample@example.com\n"
     ]
    },
    {
     "name": "stdout",
     "output_type": "stream",
     "text": [
      "Domain name: example.com\n"
     ]
    }
   ],
   "source": [
    "def extract_domain(email):\n",
    "    # Split the username\n",
    "    split=email.split('@')\n",
    "    \n",
    "    # Check if the email has expected format (username@domain)\n",
    "    if len(split)==2:\n",
    "        return split[1]\n",
    "    else:\n",
    "        return None # Invalid email\n",
    "email=input('enter email:')\n",
    "result=extract_domain(email)\n",
    "\n",
    "if result is not None:\n",
    "    print('Domain name:',result)\n",
    "else:\n",
    "    print('Invalid email')"
   ]
  },
  {
   "cell_type": "raw",
   "id": "8c640e36-a6a9-4fd1-a5b3-203a4d536222",
   "metadata": {},
   "source": [
    "33. Replace multiple spaces in a string with a single space."
   ]
  },
  {
   "cell_type": "code",
   "execution_count": 4,
   "id": "b7af6a9e-b2e0-4b48-bd8a-1baaa125f91d",
   "metadata": {},
   "outputs": [
    {
     "name": "stdin",
     "output_type": "stream",
     "text": [
      "enter a string: This   is a   string   with   multiple   spaces.\n"
     ]
    },
    {
     "name": "stdout",
     "output_type": "stream",
     "text": [
      "String after removing multiple spaces : This is a string with multiple spaces.\n"
     ]
    }
   ],
   "source": [
    "import re\n",
    "def replace_multiple_spaces(input_string):\n",
    "    # Use regular expression to replace multiple spaces with a single space\n",
    "    \n",
    "    new_string=re.sub(r'\\s+',' ',input_string)\n",
    "    \n",
    "    return new_string\n",
    "\n",
    "input_string=input('enter a string:')\n",
    "result=replace_multiple_spaces(input_string)\n",
    "\n",
    "print('String after removing multiple spaces :',result)"
   ]
  },
  {
   "cell_type": "raw",
   "id": "3f8ea2b3-f144-44b0-9231-11b9c07272d5",
   "metadata": {},
   "source": [
    "34. Check if a string is a valid URL.    "
   ]
  },
  {
   "cell_type": "code",
   "execution_count": 1,
   "id": "fb80bd4c-08c2-45dd-a4ab-8bc819e6108e",
   "metadata": {},
   "outputs": [
    {
     "name": "stdout",
     "output_type": "stream",
     "text": [
      "The URL is valid.\n"
     ]
    }
   ],
   "source": [
    "from urllib.parse import urlparse\n",
    "\n",
    "def is_valid_url(url):\n",
    "    try:\n",
    "        result=urlparse(url)\n",
    "        return all([result.scheme,result.netloc])\n",
    "    except ValueError:\n",
    "        return False\n",
    "    \n",
    "url='https://www.example.com'\n",
    "\n",
    "if is_valid_url(url):\n",
    "    print('The URL is valid.')\n",
    "else:\n",
    "    print('The URL is not valid.')"
   ]
  },
  {
   "cell_type": "raw",
   "id": "096fa5a1-fbd5-487d-a82a-fc3890f0feee",
   "metadata": {},
   "source": [
    "35. Extract the protocol (http or https) from a URL string. "
   ]
  },
  {
   "cell_type": "code",
   "execution_count": 4,
   "id": "3a3e66b6-656f-4c58-9e60-0ac36c308e7a",
   "metadata": {},
   "outputs": [
    {
     "name": "stdout",
     "output_type": "stream",
     "text": [
      "Protocol: https\n"
     ]
    }
   ],
   "source": [
    "from urllib.parse import urlparse\n",
    "\n",
    "def extract_protocol(url):\n",
    "    parsed_url=urlparse(url)\n",
    "    return parsed_url.scheme\n",
    "\n",
    "url='https://www.example.com'\n",
    "\n",
    "protocol=extract_protocol(url)\n",
    "print('Protocol:',protocol)"
   ]
  },
  {
   "cell_type": "raw",
   "id": "22a12aff-1529-4b06-9ac7-c6fbfe5652b2",
   "metadata": {},
   "source": [
    "36. Find the frequency of each character in a string."
   ]
  },
  {
   "cell_type": "code",
   "execution_count": 2,
   "id": "c405ffee-884a-441c-a13b-d5685cce4681",
   "metadata": {},
   "outputs": [
    {
     "name": "stdin",
     "output_type": "stream",
     "text": [
      "enter a string: full stack data science pro\n"
     ]
    },
    {
     "name": "stdout",
     "output_type": "stream",
     "text": [
      "f : 1\n",
      "u : 1\n",
      "l : 2\n",
      "  : 4\n",
      "s : 2\n",
      "t : 2\n",
      "a : 3\n",
      "c : 3\n",
      "k : 1\n",
      "d : 1\n",
      "i : 1\n",
      "e : 2\n",
      "n : 1\n",
      "p : 1\n",
      "r : 1\n",
      "o : 1\n"
     ]
    }
   ],
   "source": [
    "def character_frequency(input_string):\n",
    "    \n",
    "    # Create an empty dictionary to store character frequencies\n",
    "    frequency={}\n",
    "    \n",
    "    # Iterate through the string and count character frequencies\n",
    "    for char in input_string:\n",
    "        if char in frequency:\n",
    "            frequency[char]+=1\n",
    "        else:\n",
    "            frequency[char]=1\n",
    "    return frequency\n",
    "\n",
    "input_string=input('enter a string:')\n",
    "result=character_frequency(input_string)\n",
    "\n",
    "for char, count in result.items():\n",
    "    print(f'{char} : {count}')"
   ]
  },
  {
   "cell_type": "raw",
   "id": "8e44e09e-d27e-4f0a-961d-6b3a5acb2f3e",
   "metadata": {},
   "source": [
    "37. Remove all punctuation from a string."
   ]
  },
  {
   "cell_type": "code",
   "execution_count": 21,
   "id": "b79cc06d-1a83-46b4-8639-18ebed29ea87",
   "metadata": {},
   "outputs": [
    {
     "name": "stdout",
     "output_type": "stream",
     "text": [
      "Cleaned_string: Hello world This is data science class\n"
     ]
    }
   ],
   "source": [
    "import string\n",
    "import re\n",
    "\n",
    "def remove_punctuation(input_string):\n",
    "    # Define a regular expression pattern to match punctuation\n",
    "    \n",
    "    punctuation_pattern=re.compile('[%s]' % re.escape(string.punctuation))\n",
    "    \n",
    "    # Use the sub() funcion to replace punctuation with an empty string\n",
    "    \n",
    "    clean_string=punctuation_pattern.sub('',input_string)\n",
    "    \n",
    "    return clean_string\n",
    "\n",
    "input_string='Hello, world! This is data science class.'\n",
    "cleaned_string=remove_punctuation(input_string)\n",
    "print('Cleaned_string:',cleaned_string)"
   ]
  },
  {
   "cell_type": "raw",
   "id": "23ac8212-2b98-4964-a005-814b1bb56a68",
   "metadata": {},
   "source": [
    "38. Check if a string contains only digits."
   ]
  },
  {
   "cell_type": "code",
   "execution_count": 60,
   "id": "a377bc6a-eb68-4ac8-9367-e7f07345c9d1",
   "metadata": {},
   "outputs": [
    {
     "name": "stdin",
     "output_type": "stream",
     "text": [
      "enter a string: 123456789\n"
     ]
    },
    {
     "name": "stdout",
     "output_type": "stream",
     "text": [
      "The string contains only digits.\n"
     ]
    }
   ],
   "source": [
    "def only_digits(input_string):\n",
    "    if input_string.isdigit():\n",
    "        return 'The string contains only digits.'\n",
    "    else:\n",
    "        return 'The string not contains only digits.'\n",
    "        \n",
    "input_string=input('enter a string:')\n",
    "result=only_digits(input_string)\n",
    "print(result)"
   ]
  },
  {
   "cell_type": "raw",
   "id": "459bc3cc-bece-4c46-89d6-8ed42843c1ff",
   "metadata": {},
   "source": [
    "39. Check if a string contains only alphabets."
   ]
  },
  {
   "cell_type": "code",
   "execution_count": 65,
   "id": "518fb5b1-a189-4d0e-a765-7e023b147fd9",
   "metadata": {},
   "outputs": [
    {
     "name": "stdin",
     "output_type": "stream",
     "text": [
      "enter a string: HelloWorld\n"
     ]
    },
    {
     "name": "stdout",
     "output_type": "stream",
     "text": [
      "The string contains only alphabets.\n"
     ]
    }
   ],
   "source": [
    "def only_alphabets(string):\n",
    "    if string.isalpha():\n",
    "        return 'The string contains only alphabets.'\n",
    "    else:\n",
    "        return 'The string not contains only alphabets.'\n",
    "        \n",
    "string=input('enter a string:')\n",
    "result=only_alphabets(string)\n",
    "\n",
    "print(result)"
   ]
  },
  {
   "cell_type": "raw",
   "id": "bef1d536-034f-4945-adb8-ab2050a7f96d",
   "metadata": {},
   "source": [
    "40. Convert a string to a list of characters."
   ]
  },
  {
   "cell_type": "code",
   "execution_count": 77,
   "id": "028f5985-f9f7-4237-8e60-023370e4192f",
   "metadata": {},
   "outputs": [
    {
     "name": "stdout",
     "output_type": "stream",
     "text": [
      "List of characters: ['m', 'e', 'n', 't', 'o', 'r', ':', ' ', 's', 'u', 'd', 'h', 'a', 'n', 's', 'h', 'u', ' ', 's', 'i', 'r']\n"
     ]
    }
   ],
   "source": [
    "def string_list(input_string):\n",
    "    \n",
    "    # Use a list comprehension to convert the string to a list of characters\n",
    "    char_list=[char for char in input_string]\n",
    "    \n",
    "    return char_list\n",
    "\n",
    "input_string='mentor: sudhanshu sir'\n",
    "result=string_list(input_string)\n",
    "\n",
    "print('List of characters:',result)"
   ]
  },
  {
   "cell_type": "raw",
   "id": "be6d37f9-074c-4869-bdf2-348265a04504",
   "metadata": {},
   "source": [
    "41. Check if two strings are anagrams."
   ]
  },
  {
   "cell_type": "code",
   "execution_count": 7,
   "id": "965e738f-cb5e-49ee-902c-753b976ef58b",
   "metadata": {},
   "outputs": [
    {
     "name": "stdout",
     "output_type": "stream",
     "text": [
      "listen and silent are anagrams.\n"
     ]
    }
   ],
   "source": [
    "def are_anagrams(str1,str2):\n",
    "    # Remove spaces and convert both string to lowercase to make comparison case-insensitive\n",
    "    str1=str2.replace(' ','').lower()\n",
    "    str2=str2.replace(' ','').lower()\n",
    "    \n",
    "    # Check if the length of the two strings are equal\n",
    "    if len(str1)!=len(str2):\n",
    "        return False\n",
    "    \n",
    "    # Create dictionaries to store character frequencies for both strings\n",
    "    \n",
    "    char_count1={}\n",
    "    char_count2={}\n",
    "    \n",
    "    # Populate the dictionaries with character frequencies from both strings\n",
    "    for char in str1:\n",
    "        char_count1[char]=char_count1.get(char,0)+1\n",
    "    for char in str2:\n",
    "        char_count2[char]=char_count2.get(char,0)+1\n",
    "    # Compare the dictionaries to check if they have the same character frequencies\n",
    "    return char_count1==char_count2\n",
    "\n",
    "str1='listen'\n",
    "str2='silent'\n",
    "result=are_anagrams(str1,str2)\n",
    "\n",
    "if result:\n",
    "    print(f'{str1} and {str2} are anagrams.')\n",
    "else:\n",
    "    print(f'{str1} and {str2} are not anagrams.')"
   ]
  },
  {
   "cell_type": "raw",
   "id": "2323e0d2-4ebd-456f-84b1-809a7005c620",
   "metadata": {},
   "source": [
    "42. Encode a string using a Caesar cipher."
   ]
  },
  {
   "cell_type": "code",
   "execution_count": 29,
   "id": "3da02761-83f9-4b9c-af77-f6312cb04a94",
   "metadata": {},
   "outputs": [
    {
     "name": "stdout",
     "output_type": "stream",
     "text": [
      "Encoded: jypp wxego hexe wgmirgi tvs 15000\n"
     ]
    }
   ],
   "source": [
    "def caesar_cipher_encode(text,shift):\n",
    "    encoded_text=''\n",
    "    \n",
    "    for char in text:\n",
    "        # Check if the character is a letter\n",
    "        if char.isalpha():\n",
    "            \n",
    "            # Determine whether the character is uppercase or lowercase\n",
    "            is_upper=char.isupper()\n",
    "            \n",
    "            # Shift the character by the specified amount while keeping it within the alphabet.\n",
    "            char_code=ord(char)-ord('A') if is_upper else ord(char)-ord('a')\n",
    "            encoded_char_code=(char_code+shift)%26\n",
    "            \n",
    "            encoded_char=chr(encoded_char_code+ord('A') if is_upper else encoded_char_code+ord('a'))\n",
    "            encoded_text+=encoded_char\n",
    "        else:\n",
    "            # If the character is not a letter, keep it unchanged\n",
    "            encoded_text+=char\n",
    "    return encoded_text\n",
    "\n",
    "plaintext='full stack data science pro 15000'\n",
    "shift_amount=4\n",
    "encoded_text=caesar_cipher_encode(plaintext,shift_amount)\n",
    "print('Encoded:',encoded_text)"
   ]
  },
  {
   "cell_type": "raw",
   "id": "2d20eb1c-6bd4-4f98-a472-c5c4cc88a329",
   "metadata": {},
   "source": [
    "43. Decode a caesar cipher encoded string."
   ]
  },
  {
   "cell_type": "code",
   "execution_count": 28,
   "id": "66cafbdc-c51d-4167-a65a-ddca46a98d53",
   "metadata": {},
   "outputs": [
    {
     "name": "stdout",
     "output_type": "stream",
     "text": [
      "Decoded: full stack data science pro 15000\n"
     ]
    }
   ],
   "source": [
    "def caesar_cipher_decode(encoded_text,shift):\n",
    "    decoded_text=''\n",
    "    \n",
    "    for char in encoded_text:\n",
    "        # Check if the character is a letter\n",
    "        \n",
    "        if char.isalpha():\n",
    "            \n",
    "            # Determine whether the character is uppercase or lowercase\n",
    "            is_upper=char.isupper()\n",
    "        \n",
    "            # Shift the character back by the specified amount while keeping it within the alphabet\n",
    "        \n",
    "            char_code=ord(char)-ord('A') if is_upper else ord(char)-ord('a')\n",
    "        \n",
    "            decoded_char_code= (char_code-shift)%26\n",
    "        \n",
    "            decoded_char=chr(decoded_char_code+ord('A') if is_upper else decoded_char_code+ord('a'))\n",
    "            decoded_text+=decoded_char\n",
    "        \n",
    "        \n",
    "        else:\n",
    "            \n",
    "                \n",
    "             # If the character is not a letter, keep it unchanged\n",
    "            decoded_text+=char\n",
    "            \n",
    "    return decoded_text\n",
    "\n",
    "encoded_text='jypp wxego hexe wgmirgi tvs 15000'\n",
    "shift_amount=4\n",
    "decoded_text=caesar_cipher_decode(encoded_text,shift_amount)\n",
    "print('Decoded:',decoded_text)"
   ]
  },
  {
   "cell_type": "raw",
   "id": "f6f586e2-4c43-485f-9843-c48db83c9bf1",
   "metadata": {},
   "source": [
    "44. Find the most frequent word in a string."
   ]
  },
  {
   "cell_type": "code",
   "execution_count": 17,
   "id": "40d366a8-55f0-4a43-bf4e-2a6b4163764b",
   "metadata": {},
   "outputs": [
    {
     "name": "stdout",
     "output_type": "stream",
     "text": [
      "The most frequent word is 'sample' with a frequency of 2.\n"
     ]
    }
   ],
   "source": [
    "import re\n",
    "from collections import Counter\n",
    "\n",
    "def most_frequent_word(input_string):\n",
    "    # Tokenize the input string into words (splite by spaces and remove punctuation)\n",
    "    words=re.findall(r'\\b\\w+\\b', input_string.lower())\n",
    "    \n",
    "    # Create a dictionary to store word frequencies\n",
    "    \n",
    "    word_freq=Counter(words)\n",
    "    \n",
    "    # Find the word(s) with the highest frequency\n",
    "    most_common=word_freq.most_common(1)\n",
    "    if most_common:\n",
    "        return most_common[0][0], most_common[0][1]\n",
    "    else:\n",
    "        return None, 0\n",
    "    \n",
    "input_string='This is a sample sentence. And want sample as output.'\n",
    "most_frequent, frequency= most_frequent_word(input_string)\n",
    "if most_frequent:\n",
    "    print(f\"The most frequent word is '{most_frequent}' with a frequency of {frequency}.\")\n",
    "else:\n",
    "    print('No words found in the input string.')"
   ]
  },
  {
   "cell_type": "raw",
   "id": "45e70dc1-1b1a-48fe-8a45-5152caedd724",
   "metadata": {},
   "source": [
    "45. Find all unique words in a string."
   ]
  },
  {
   "cell_type": "code",
   "execution_count": 5,
   "id": "49aa8927-77e0-424c-8c2f-e875d8c48175",
   "metadata": {},
   "outputs": [
    {
     "name": "stdout",
     "output_type": "stream",
     "text": [
      "Unique words in the input string:\n",
      "is\n",
      "the\n",
      "of\n",
      "going\n",
      "AI\n",
      "his\n",
      "This\n",
      "leave\n",
      "impact\n",
      "age\n",
      "to\n"
     ]
    }
   ],
   "source": [
    "import re\n",
    "\n",
    "def unique_words(input_string):\n",
    "    \n",
    "    # Tokenize the input string into words (split by spaces and remove punctuation)\n",
    "    \n",
    "    words=re.findall(r'\\b\\w+\\b', input_string)\n",
    "    \n",
    "    # Create a set to store unique words\n",
    "    unique_word_set=set(words)\n",
    "    return unique_word_set\n",
    "\n",
    "# Example usage:\n",
    "input_string='This is the age of AI. AI is going to leave his impact.'\n",
    "unique_word_set=unique_words(input_string)\n",
    "\n",
    "if unique_word_set:\n",
    "    print('Unique words in the input string:')\n",
    "    \n",
    "    for word in unique_word_set:\n",
    "        print(word)\n",
    "else:\n",
    "    print('No words found in the input string.')\n",
    "    "
   ]
  },
  {
   "cell_type": "raw",
   "id": "0ddb9f33-2bdc-4257-a47d-955734ea4b3c",
   "metadata": {},
   "source": [
    "46. Count the number of syllables in a string."
   ]
  },
  {
   "cell_type": "code",
   "execution_count": 6,
   "id": "6284ca08-1993-4096-8350-7025458b5485",
   "metadata": {},
   "outputs": [
    {
     "name": "stdout",
     "output_type": "stream",
     "text": [
      "The word 'Approximately' has approximately 6 syllables.\n"
     ]
    }
   ],
   "source": [
    "import re\n",
    "def count_syllables(word):\n",
    "    # Remove any non-alphabet characters and convert to lowercase\n",
    "    \n",
    "    word=re.sub(r'[^a-zA-Z]', '', word).lower()\n",
    "    \n",
    "    if len(word)<=3:\n",
    "        return 1 # Short words typically have 1 syllable\n",
    "    \n",
    "    else:\n",
    "        # Use a simple rule to estimate syllables based on vowels\n",
    "        # Count consecutive vowels (excluding 'e' at the end of the word)\n",
    "        \n",
    "        syllable_count=0\n",
    "        vowels='aeiouy'\n",
    "        prev_char=None\n",
    "        for char in word:\n",
    "            if char in vowels and (prev_char is None or prev_char not in vowels):\n",
    "                syllable_count+=1\n",
    "            prev_char=char\n",
    "            \n",
    "        # Adjust for words ending with 'e'\n",
    "        if word.endswith('e'):\n",
    "            syllable_count-=1\n",
    "            \n",
    "        # Ensure a minimum of 1 syllable\n",
    "        return max(1,syllable_count)\n",
    "\n",
    "# Example usage\n",
    "input_word='Approximately'\n",
    "syllable_count=count_syllables(input_word)\n",
    "\n",
    "print(f\"The word '{input_word}' has approximately {syllable_count} syllables.\")"
   ]
  },
  {
   "cell_type": "raw",
   "id": "17f1b6e5-422f-41ed-bf64-303d83e0cde2",
   "metadata": {},
   "source": [
    "47. Check if a string contains any special characters."
   ]
  },
  {
   "cell_type": "code",
   "execution_count": 9,
   "id": "724a297c-a67b-4673-8273-b91b9501f1ce",
   "metadata": {},
   "outputs": [
    {
     "name": "stdout",
     "output_type": "stream",
     "text": [
      "String 1 contains special characters: False\n",
      "String 2 contains special characters: True\n"
     ]
    }
   ],
   "source": [
    "import re\n",
    "\n",
    "def contains_special_characters(input_string):\n",
    "    \n",
    "    # Define a regular expression pattern to match special characters\n",
    "    special_characters_pattern=r'[^a-zA-Z0-9\\s.,!?\"]'\n",
    "    \n",
    "    # Use re.search to find any special characters in the input string\n",
    "    match=re.search(special_characters_pattern,input_string)\n",
    "    \n",
    "    # If a match is found, there are special characters in the string\n",
    "    if match:\n",
    "        return True\n",
    "    else:\n",
    "        return False\n",
    "    \n",
    "# Example usage:\n",
    "\n",
    "input_string1='This is a string without special characters.'\n",
    "    \n",
    "input_string2='This is a string with $pecial characters!'\n",
    "contains_special_chars1=contains_special_characters(input_string1)\n",
    "contains_special_chars2=contains_special_characters(input_string2)                                \n",
    "\n",
    "print(f'String 1 contains special characters: {contains_special_chars1}')\n",
    "print(f'String 2 contains special characters: {contains_special_chars2}')\n",
    "                                "
   ]
  },
  {
   "cell_type": "raw",
   "id": "af91fc84-1467-4ec3-a1fa-0687b4e59282",
   "metadata": {},
   "source": [
    "48. Remove the nth word from a string."
   ]
  },
  {
   "cell_type": "code",
   "execution_count": 3,
   "id": "90314fc7-c072-41bd-bc69-6f4f02b8c976",
   "metadata": {},
   "outputs": [
    {
     "name": "stdin",
     "output_type": "stream",
     "text": [
      "enter a index: 5\n"
     ]
    },
    {
     "name": "stdout",
     "output_type": "stream",
     "text": [
      "Modified String: full stack data science pro\n"
     ]
    }
   ],
   "source": [
    "def remove_nth_word(input_string,n):\n",
    "    # Split the input string into words\n",
    "    \n",
    "    words=input_string.split()\n",
    "    \n",
    "    # Check if n is a valid index\n",
    "    if 1<=n<=len(words):\n",
    "        # Remove the nth word (subtract 1 from n to account for 0-based indexing)\n",
    "        del words[n-1]\n",
    "        \n",
    "        # Join the remaining words back into a string\n",
    "        result_string=' '.join(words)\n",
    "        \n",
    "        return result_string\n",
    "    \n",
    "    else:\n",
    "        # If n is not a valid index, return the original string\n",
    "        \n",
    "        return input_string\n",
    "# Example usage:\n",
    "\n",
    "input_string='full stack data science max pro'\n",
    "n=int(input('enter a index:'))\n",
    "result=remove_nth_word(input_string,n)\n",
    "\n",
    "print('Modified String:',result)\n"
   ]
  },
  {
   "cell_type": "raw",
   "id": "5a5fb017-7ccd-471c-be43-881340aa1992",
   "metadata": {},
   "source": [
    "49. Insert a word at the nth position in a string."
   ]
  },
  {
   "cell_type": "code",
   "execution_count": 28,
   "id": "e80cc641-0f5c-44eb-a714-fbe9aa32b4fd",
   "metadata": {},
   "outputs": [
    {
     "name": "stdin",
     "output_type": "stream",
     "text": [
      "enter a word to insert: altra\n",
      "enter position of word: 5\n"
     ]
    },
    {
     "name": "stdout",
     "output_type": "stream",
     "text": [
      "Modified String:\n",
      "full stack data science altra pro\n"
     ]
    }
   ],
   "source": [
    "def insert_word_at_nth_position(input_string,word_to_insert,n):\n",
    "    # Split the input string into words\n",
    "    \n",
    "    words=input_string.split()\n",
    "    \n",
    "    # Check if n is a valid index (1 to len(words)+1\n",
    "    \n",
    "    if 1<=n<=len(words)+1:\n",
    "        #Insert the word at the nth position (subtract 1 from n to account for 0-based indexing)\n",
    "        \n",
    "        words.insert(n-1,word_to_insert)\n",
    "        \n",
    "        # Join the words back into a string\n",
    "        result_string=' '.join(words)\n",
    "        \n",
    "        return result_string\n",
    "    else:\n",
    "        # If n is not a valid index, return the original string\n",
    "        return input_string\n",
    "    \n",
    "# Example usage:\n",
    "input_string='full stack data science pro'\n",
    "word_to_insert=input('enter a word to insert:')\n",
    "n=int(input('enter position of word:'))\n",
    "\n",
    "result=insert_word_at_nth_position(input_string,word_to_insert,n)\n",
    "      \n",
    "print('Modified String:')\n",
    "print(result)"
   ]
  },
  {
   "cell_type": "raw",
   "id": "2a1c9b70-c24e-40f8-909f-da14d1e77a2b",
   "metadata": {},
   "source": [
    "50. Convert a CSV string to a list of lists."
   ]
  },
  {
   "cell_type": "code",
   "execution_count": 79,
   "id": "d5aa1774-fa2c-4000-ae55-bb1f015eba89",
   "metadata": {},
   "outputs": [
    {
     "name": "stdout",
     "output_type": "stream",
     "text": [
      "['Name', 'Age', 'City']\n",
      "['Alice', '30', 'New York']\n",
      "['Ganpat', '25', 'Mumbai']\n",
      "['Baburao', '35', 'Pune']\n"
     ]
    }
   ],
   "source": [
    "def csv_string_to_list(csv_string):\n",
    "    # Split the csv string into lines\n",
    "    \n",
    "    lines=csv_string.split('\\n')\n",
    "    \n",
    "    # Initialize a list to store the rows\n",
    "    csv_data=[]\n",
    "    \n",
    "    for line in lines:\n",
    "        #Split each line into values using a comma as the delimiter\n",
    "        values=line.split(',')\n",
    "        \n",
    "        #Remove leading and trailing whitespace from each value\n",
    "        cleaned_values=[value.strip() for value in values]\n",
    "        \n",
    "        # Append the cleaned values to the list of rows\n",
    "        \n",
    "        csv_data.append(cleaned_values)\n",
    "        \n",
    "    return csv_data\n",
    "\n",
    "# Example usage:\n",
    "csv_string=\"\"\"Name, Age, City\n",
    "Alice, 30, New York\n",
    "Ganpat, 25, Mumbai\n",
    "Baburao, 35, Pune\"\"\"\n",
    "\n",
    "result=csv_string_to_list(csv_string)\n",
    "for row in result:\n",
    "    print(row)"
   ]
  },
  {
   "cell_type": "raw",
   "id": "e6e7ed04-964f-496a-8340-2613e80d031a",
   "metadata": {},
   "source": [
    "# List Based Practice Problem:"
   ]
  },
  {
   "cell_type": "raw",
   "id": "291aced2-281b-4713-9099-ecbf550b7121",
   "metadata": {},
   "source": [
    "1. Create a list with integers from 1 to 10."
   ]
  },
  {
   "cell_type": "code",
   "execution_count": 3,
   "id": "a69027c4-a43f-463d-b47b-6e6f185860af",
   "metadata": {},
   "outputs": [
    {
     "name": "stdout",
     "output_type": "stream",
     "text": [
      "[1, 3, 4, 5, 6, 7, 8, 9, 10]\n"
     ]
    }
   ],
   "source": [
    "lst=[1,3,4,5,6,7,8,9,10]\n",
    "print(lst)"
   ]
  },
  {
   "cell_type": "raw",
   "id": "57684e1d-a63a-4f77-8dce-f51b6a5c692d",
   "metadata": {},
   "source": [
    "2. Find the length of a list without using the 'len()' function."
   ]
  },
  {
   "cell_type": "code",
   "execution_count": 94,
   "id": "013b845d-bbd0-4cdc-a780-28b532194353",
   "metadata": {},
   "outputs": [
    {
     "name": "stdout",
     "output_type": "stream",
     "text": [
      "The length of list is: 7\n"
     ]
    }
   ],
   "source": [
    "def len_of_list(input_list):\n",
    "    length=0\n",
    "    for element in input_list:\n",
    "        length+=1\n",
    "    return length\n",
    "input_list=[1,2,3,4,5,'nag','sen']\n",
    "\n",
    "result=len_of_list(input_list)\n",
    "\n",
    "print('The length of list is:',result)"
   ]
  },
  {
   "cell_type": "raw",
   "id": "73812450-646e-4dfd-aa67-87ef5b62637d",
   "metadata": {},
   "source": [
    "3. Append an element to the end of a list."
   ]
  },
  {
   "cell_type": "code",
   "execution_count": 100,
   "id": "eefbd0c4-12f3-4bfd-bd38-57fae3914008",
   "metadata": {},
   "outputs": [
    {
     "name": "stdout",
     "output_type": "stream",
     "text": [
      "[1, 2, 3, 4, 5, 6, 'nag', 'sen', 'khandare', 'data scientis']\n"
     ]
    }
   ],
   "source": [
    "l0=[1,2,3,4,5,6,'nag','sen','khandare']\n",
    "\n",
    "l0.append('data scientis')\n",
    "\n",
    "print(l0)"
   ]
  },
  {
   "cell_type": "raw",
   "id": "65fee7b5-6eae-422b-b8fb-56336ca1d290",
   "metadata": {},
   "source": [
    "4.Insert an element at a specific index in a list."
   ]
  },
  {
   "cell_type": "code",
   "execution_count": 107,
   "id": "69c96c25-d8fa-419d-9574-bb6b6ae41137",
   "metadata": {},
   "outputs": [
    {
     "name": "stdin",
     "output_type": "stream",
     "text": [
      "enter element to insert: scientist\n",
      "enter an index: 9\n"
     ]
    },
    {
     "name": "stdout",
     "output_type": "stream",
     "text": [
      "The list with inserted element is:\n",
      "[1, 2, 3, 4, 5, 6, 'nag', 'sen', 'data', 'scientist']\n"
     ]
    }
   ],
   "source": [
    "def insert_element(my_list,elment_to_insert,n):\n",
    "    my_list.insert(n,element_to_insert)\n",
    "    \n",
    "    return my_list\n",
    "\n",
    "my_list=[1,2,3,4,5,6,'nag','sen','data']\n",
    "element_to_insert=input('enter element to insert:')\n",
    "\n",
    "n=int(input('enter an index:'))\n",
    "\n",
    "result=insert_element(my_list,element_to_insert,n)\n",
    "\n",
    "print('The list with inserted element is:')\n",
    "print(result)\n",
    "    "
   ]
  },
  {
   "cell_type": "raw",
   "id": "b20d30fc-7cd8-4ca8-bd9d-ec38eb468733",
   "metadata": {},
   "source": [
    "5. Remove an element from a list by its value."
   ]
  },
  {
   "cell_type": "code",
   "execution_count": 131,
   "id": "eaf49641-4f5b-4d39-a352-9a9f4c20aa51",
   "metadata": {},
   "outputs": [
    {
     "name": "stdout",
     "output_type": "stream",
     "text": [
      "[1, 2, 3, 4, 5, 6, 'data', 'science']\n"
     ]
    }
   ],
   "source": [
    "my_list=[1,2,3,4,5,6,'data','science','nagsen']\n",
    "\n",
    "element_to_remove='nagsen'\n",
    "my_list.remove(element_to_remove)\n",
    "\n",
    "print(my_list)"
   ]
  },
  {
   "cell_type": "raw",
   "id": "929f7567-4581-4145-a119-a9ed201d6938",
   "metadata": {},
   "source": [
    "6. Remove an element from a list by its index."
   ]
  },
  {
   "cell_type": "code",
   "execution_count": 134,
   "id": "c5e567c1-d3fb-4da3-9866-9ef507bcdd65",
   "metadata": {},
   "outputs": [
    {
     "name": "stdin",
     "output_type": "stream",
     "text": [
      "enter index to remove: 4\n"
     ]
    },
    {
     "name": "stdout",
     "output_type": "stream",
     "text": [
      "The list after removing the element at particular index:\n",
      "[6, 7, 8, 1, 'nag', 'sen', 'data', True, False]\n"
     ]
    }
   ],
   "source": [
    "def remove_list_element(my_list,remove_index):\n",
    "    del my_list[remove_index]\n",
    "    return my_list\n",
    "\n",
    "\n",
    "# Input usage:\n",
    "my_list=[6,7,8,1,0,'nag','sen','data',True,False,]\n",
    "\n",
    "remove_index=int(input('enter index to remove:'))\n",
    "my_list=remove_list_element(my_list,remove_index)\n",
    "\n",
    "print('The list after removing the element at particular index:')\n",
    "print(my_list)"
   ]
  },
  {
   "cell_type": "raw",
   "id": "4b782fa5-71cc-4e0c-b0d1-9b7f27c70595",
   "metadata": {},
   "source": [
    "7. Check if an element exists in a list."
   ]
  },
  {
   "cell_type": "code",
   "execution_count": 145,
   "id": "c01e3fbc-e7d1-40ac-87f4-6cf61f6085db",
   "metadata": {},
   "outputs": [
    {
     "name": "stdout",
     "output_type": "stream",
     "text": [
      "power bi is in a list.\n"
     ]
    }
   ],
   "source": [
    "list1=[1,2,3,4,5,6,7,'data','ai','power bi']\n",
    "\n",
    "element_to_check='power bi'\n",
    "\n",
    "if element_to_check in list1:\n",
    "    print(f'{element_to_check} is in a list.')\n",
    "    \n",
    "else:\n",
    "    print(f'{element_to_check} is not in a list.')"
   ]
  },
  {
   "cell_type": "raw",
   "id": "6ef7ab78-f324-4194-a733-dd509613ba28",
   "metadata": {},
   "source": [
    "8. Find the index of the first occurrence of an element in  a list."
   ]
  },
  {
   "cell_type": "code",
   "execution_count": 167,
   "id": "ba05d7a8-0618-43f5-a673-1b52328a9637",
   "metadata": {},
   "outputs": [
    {
     "name": "stdout",
     "output_type": "stream",
     "text": [
      "The index of the first occurrence of 5 is 2.\n"
     ]
    }
   ],
   "source": [
    "# List example\n",
    "list2=[1,4,5,2,3,4,5,3,5,2,3]\n",
    "# Element to find first occurrence \n",
    "\n",
    "element_to_find=5\n",
    "\n",
    "# Initialize a variable to store the index\n",
    "index=None\n",
    "\n",
    "# Iterate through the list to find the index of the element\n",
    "for i, value in enumerate(list2):\n",
    "    if value==element_to_find:\n",
    "        index=i\n",
    "        # Stop searching after the first occurrence\n",
    "        break\n",
    "        \n",
    "if index is not None:\n",
    "    print(f'The index of the first occurrence of {element_to_find} is {index}.')\n",
    "    \n",
    "else:\n",
    "    print(f'{element_to_find} is not in the list.')"
   ]
  },
  {
   "cell_type": "raw",
   "id": "d7bad6a0-ae49-4c16-8fcc-87d0abb0424a",
   "metadata": {},
   "source": [
    "9. Count the occurrences of an element in a list."
   ]
  },
  {
   "cell_type": "code",
   "execution_count": 168,
   "id": "932b4a7d-0c31-44b8-ad47-37ff1af76ded",
   "metadata": {},
   "outputs": [
    {
     "name": "stdout",
     "output_type": "stream",
     "text": [
      "The occurrences of 5 in a list is 3.\n"
     ]
    }
   ],
   "source": [
    "list4=[1,2,3,4,5,7,8,9,8,7,6,0,9,0,90,4,5,5]\n",
    "element_to_count=5\n",
    "count=list4.count(element_to_count)\n",
    "\n",
    "print(f'The occurrences of {element_to_count} in a list is {count}.')"
   ]
  },
  {
   "cell_type": "raw",
   "id": "563eeae2-3e48-49a8-8714-fdbe7b03dfc7",
   "metadata": {},
   "source": [
    "10. Reverse the order of elements in a list."
   ]
  },
  {
   "cell_type": "code",
   "execution_count": 27,
   "id": "a44745b3-a62c-4bae-af37-aebd94fe778f",
   "metadata": {},
   "outputs": [
    {
     "name": "stdout",
     "output_type": "stream",
     "text": [
      "['data', 'pro', 'sen', 'nag', 4, 3, 2, 1]\n"
     ]
    }
   ],
   "source": [
    "list9=[1,2,3,4,'nag','sen','pro','data']\n",
    "list9.reverse()\n",
    "print(list9)"
   ]
  },
  {
   "cell_type": "raw",
   "id": "cea89483-804f-414b-9cbd-fbf039845c0e",
   "metadata": {},
   "source": [
    "11. Sort a list in ascending order."
   ]
  },
  {
   "cell_type": "code",
   "execution_count": 5,
   "id": "54660121-4dca-4a69-bdf3-fd9722a8adc9",
   "metadata": {},
   "outputs": [
    {
     "name": "stdout",
     "output_type": "stream",
     "text": [
      "[0, 0, 1, 2, 3, 4, 6, 7, 8, 9, 54]\n"
     ]
    }
   ],
   "source": [
    "lst5=[6,7,8,4,9,0,1,3,2,54,0]\n",
    "# Use sort() function to modify original list in-place\n",
    "\n",
    "lst5.sort()\n",
    "print(lst5)"
   ]
  },
  {
   "cell_type": "raw",
   "id": "2f9047f3-feac-45fa-8f07-f67d5ba08157",
   "metadata": {},
   "source": [
    "12. Sort a list in descending order."
   ]
  },
  {
   "cell_type": "code",
   "execution_count": 10,
   "id": "45a16134-5a31-417c-ad44-bd56c1f8a30e",
   "metadata": {},
   "outputs": [
    {
     "name": "stdout",
     "output_type": "stream",
     "text": [
      "The sorted list in descending order is:\n",
      "[9, 9, 8, 7, 6, 3, 2, 2, 1, 0]\n"
     ]
    }
   ],
   "source": [
    "lst7=[1,2,3,0,9,2,7,6,8,9]\n",
    "\n",
    "# Use sorted() function with reverse=True argument to get the sorted list of element in descending order, it keep original list unchange\n",
    "\n",
    "sorted_list=sorted(lst7,reverse=True)\n",
    "print(f'The sorted list in descending order is:')\n",
    "print(sorted_list)"
   ]
  },
  {
   "cell_type": "raw",
   "id": "16f3edb5-c728-4594-9dc4-8a7be00e13b2",
   "metadata": {},
   "source": [
    "13. Create a list of even numbers from 1 to 20."
   ]
  },
  {
   "cell_type": "code",
   "execution_count": 14,
   "id": "ef9ca71c-bed4-45a5-aba2-5c4b6e17f71d",
   "metadata": {},
   "outputs": [
    {
     "name": "stdout",
     "output_type": "stream",
     "text": [
      "The list of even numbers is:\n",
      "[2, 4, 6, 8, 10, 12, 14, 16, 18, 20]\n"
     ]
    }
   ],
   "source": [
    "def even_number_list(my_list):\n",
    "    my_list=[1,2,3,4,5,6,7,8,9,10,11,12,13,14,15,16,17,18,19,20]\n",
    "    even_num_lst=[]\n",
    "    for num in my_list:\n",
    "        if num%2==0:\n",
    "            even_num_lst.append(num)\n",
    "    return even_num_lst\n",
    "even_num_lst=even_number_list(my_list)\n",
    "print('The list of even numbers is:')\n",
    "print(even_num_lst)"
   ]
  },
  {
   "cell_type": "raw",
   "id": "188bf5af-1103-4bb1-ad84-8a655044df67",
   "metadata": {},
   "source": [
    "14. Create a list of odd numbers from 1 to 20."
   ]
  },
  {
   "cell_type": "code",
   "execution_count": 17,
   "id": "c7978c5d-9b1a-4242-9112-bcedd7d9ebbc",
   "metadata": {},
   "outputs": [
    {
     "name": "stdout",
     "output_type": "stream",
     "text": [
      "The list of odd numbers is:\n",
      "[1, 3, 5, 7, 9, 11, 13, 15, 17, 19]\n"
     ]
    }
   ],
   "source": [
    "# Create a list of off number using list comprehension\n",
    "\n",
    "odd_numbers=[x for x in range(1,21) if x%2!=0]\n",
    "\n",
    "#Print the list of odd numbers\n",
    "print('The list of odd numbers is:')\n",
    "print(odd_numbers)"
   ]
  },
  {
   "cell_type": "raw",
   "id": "267082d0-396c-4b2c-9931-54ebfa47db19",
   "metadata": {},
   "source": [
    "15. Find the sum of all elements in a list."
   ]
  },
  {
   "cell_type": "code",
   "execution_count": 23,
   "id": "23ab68f4-5075-49df-8544-9d6f8da76def",
   "metadata": {},
   "outputs": [
    {
     "name": "stdout",
     "output_type": "stream",
     "text": [
      "The sum of elements in a list: 120\n"
     ]
    }
   ],
   "source": [
    "lst3=[1,2,3,4,5,6,7,8,9,10,11,12,13,14,15]\n",
    "\n",
    "# Use sum() function to take sum of elements\n",
    "\n",
    "sum_of_elements=sum(lst3)\n",
    "\n",
    "print('The sum of elements in a list:',sum_of_elements)"
   ]
  },
  {
   "cell_type": "raw",
   "id": "a2e62a6b-2d8e-4610-9066-ae99f8e7674f",
   "metadata": {},
   "source": [
    "16. Find the maximum value in a list."
   ]
  },
  {
   "cell_type": "code",
   "execution_count": 1,
   "id": "0f2685cb-d589-4aa9-b594-457e52ab97aa",
   "metadata": {},
   "outputs": [
    {
     "name": "stdout",
     "output_type": "stream",
     "text": [
      "The maximum value in a list is: 15000\n"
     ]
    }
   ],
   "source": [
    "lst=[1,2,5,9,0,15000]\n",
    "\n",
    "# Use max() function to find maximum value in list\n",
    "max_value=max(lst)\n",
    "print('The maximum value in a list is:',max_value)"
   ]
  },
  {
   "cell_type": "raw",
   "id": "81b9001c-e81c-43c0-950e-23613964e00e",
   "metadata": {},
   "source": [
    "17. Find the minimum value in a list."
   ]
  },
  {
   "cell_type": "code",
   "execution_count": 2,
   "id": "0d8b6f05-a2e2-40eb-b920-8aa079f13729",
   "metadata": {},
   "outputs": [
    {
     "name": "stdout",
     "output_type": "stream",
     "text": [
      "The minimum value in a list is: 0\n"
     ]
    }
   ],
   "source": [
    "lst=[1,2,5,9,0,15000]\n",
    "\n",
    "# Use min() function to find minimum value in a list.\n",
    "min_value=min(lst)\n",
    "print('The minimum value in a list is:',min_value)"
   ]
  },
  {
   "cell_type": "raw",
   "id": "3397e768-632c-4346-ac5e-de067ddc8a5c",
   "metadata": {},
   "source": [
    "18. Create a list of squares of numbers from 1 to 10."
   ]
  },
  {
   "cell_type": "code",
   "execution_count": 3,
   "id": "8247332e-3726-47b4-9e12-51a92bd99253",
   "metadata": {},
   "outputs": [
    {
     "name": "stdout",
     "output_type": "stream",
     "text": [
      "The square of the numbers are:\n",
      "[1, 4, 9, 16, 25, 36, 49, 64, 81, 100]\n"
     ]
    }
   ],
   "source": [
    "# Use list comprehension to store square of numbers\n",
    "square=[x**2 for x in range(1,11)]\n",
    "print('The square of the numbers are:')\n",
    "print(square)"
   ]
  },
  {
   "cell_type": "raw",
   "id": "c8c6c598-53d8-45a4-b133-82a58bc90ce0",
   "metadata": {},
   "source": [
    "19. Create a list of random numbers."
   ]
  },
  {
   "cell_type": "code",
   "execution_count": 13,
   "id": "dc451c2f-3189-4630-b12f-841b7de6bc27",
   "metadata": {},
   "outputs": [
    {
     "name": "stdout",
     "output_type": "stream",
     "text": [
      "The list of the random numbers: [21, 22, 9, 27, 43, 47, 49, 10, 10, 17]\n"
     ]
    }
   ],
   "source": [
    "import random\n",
    "\n",
    "# Define the range and length of a list\n",
    "start_range=1\n",
    "end_range=50\n",
    "list_length=10\n",
    "\n",
    "# Create a list of random integers within the specified range\n",
    "random_numbers=[random.randint(start_range,end_range) for _ in range(list_length)]\n",
    "\n",
    "# Print the list of random numbers\n",
    "print('The list of the random numbers:',random_numbers)"
   ]
  },
  {
   "cell_type": "raw",
   "id": "097cd586-bdd5-4bcd-9513-78680b27e9e5",
   "metadata": {},
   "source": [
    "20. Remove duplicates from a list."
   ]
  },
  {
   "cell_type": "code",
   "execution_count": 30,
   "id": "80c2e524-fd3d-4a5e-b234-0db44d69f46e",
   "metadata": {},
   "outputs": [
    {
     "name": "stdout",
     "output_type": "stream",
     "text": [
      "The list after removing the duplicates is: [1, 2, 3, 4, 5, 6]\n"
     ]
    }
   ],
   "source": [
    "lst5=[1,2,3,2,4,3,5,4,6,5,4,6]\n",
    "# Create empty list to store unique elements.\n",
    "unique_list=[]\n",
    "for num in lst5:\n",
    "    if num not in unique_list:\n",
    "        unique_list.append(num)\n",
    "        \n",
    "print('The list after removing the duplicates is:',unique_list)"
   ]
  },
  {
   "cell_type": "raw",
   "id": "9e161f3a-65c8-4608-a269-509ae8857efe",
   "metadata": {},
   "source": [
    "21. Find the common elements between two lists."
   ]
  },
  {
   "cell_type": "code",
   "execution_count": 54,
   "id": "00aa01d5-498b-459c-8737-295fb7d6e4ae",
   "metadata": {},
   "outputs": [
    {
     "name": "stdout",
     "output_type": "stream",
     "text": [
      "The common elements between two list:\n",
      "[1, 2, 3, 4, 5, 6, 'sen']\n"
     ]
    }
   ],
   "source": [
    "lst33=[1,2,3,4,5,6,4,3,2,3,4,5,6,'nag','sen','data','science']\n",
    "lst44=[1,2,3,6,4,32,8,9,5,5,'pro','sen']\n",
    "\n",
    "common_list=[]\n",
    "\n",
    "    \n",
    "for num in lst33 and lst44:\n",
    "    if num in lst33 and lst44:\n",
    "        common_list.append(num)\n",
    "        \n",
    "print('The common elements between two list:')\n",
    "# Use set() to remove the common elements \n",
    "print(list(set(common_list)))\n"
   ]
  },
  {
   "cell_type": "raw",
   "id": "2d944bef-669c-48c1-8937-1ef28c952cb3",
   "metadata": {},
   "source": [
    "22. Find the difference between two lists."
   ]
  },
  {
   "cell_type": "code",
   "execution_count": 56,
   "id": "d1f98a50-8a58-4ef6-ae70-70c9372a7d15",
   "metadata": {},
   "outputs": [
    {
     "name": "stdout",
     "output_type": "stream",
     "text": [
      "The different elements between two list are:\n",
      "['nag', 'data', 'science']\n"
     ]
    }
   ],
   "source": [
    "lst33=[1,2,3,4,5,6,4,3,2,3,4,5,6,'nag','sen','data','science']\n",
    "lst44=[1,2,3,6,4,32,8,9,5,5,'pro','sen']\n",
    "\n",
    "different_elements=[]\n",
    "for num in lst33:\n",
    "    if num not in lst44:\n",
    "        different_elements.append(num)\n",
    "        \n",
    "        \n",
    "print('The different elements between two list are:')\n",
    "print(different_elements)"
   ]
  },
  {
   "cell_type": "raw",
   "id": "ec6dd0fb-4e6c-4315-b0cf-1dcf0221d010",
   "metadata": {},
   "source": [
    "23. Merge two lists."
   ]
  },
  {
   "cell_type": "code",
   "execution_count": 72,
   "id": "b8e74e53-f599-4a39-a88d-6b5a98a73181",
   "metadata": {},
   "outputs": [
    {
     "name": "stdout",
     "output_type": "stream",
     "text": [
      "The combined two lists:\n",
      "[1, 2, 'nag', 'sen', 3, 4, 'data', 'science']\n"
     ]
    }
   ],
   "source": [
    "lst6=[1,2,'nag','sen']\n",
    "lst7=[3,4,'data','science']\n",
    "# Use extend() module to merge two list\n",
    "\n",
    "lst6.extend(lst7)\n",
    "print('The combined two lists:')\n",
    "print(lst6)"
   ]
  },
  {
   "cell_type": "raw",
   "id": "f5342625-b151-4bb6-b8cb-331d9e629f8b",
   "metadata": {},
   "source": [
    "24. Multiply all elements in a list by 2."
   ]
  },
  {
   "cell_type": "code",
   "execution_count": 73,
   "id": "ab1e5dc6-3b0f-4a06-a84a-d9fa9b729923",
   "metadata": {},
   "outputs": [
    {
     "name": "stdout",
     "output_type": "stream",
     "text": [
      "The list after multiplication:\n",
      "[2, 4, 6, 8, 10, 12, 14, 16, 18, 20]\n"
     ]
    }
   ],
   "source": [
    "lst=[1,2,3,4,5,6,7,8,9,10]\n",
    "\n",
    "# Use list comprehension\n",
    "mult_lst=[i*2for i in lst]\n",
    "\n",
    "print('The list after multiplication:')\n",
    "print(mult_lst)"
   ]
  },
  {
   "cell_type": "raw",
   "id": "cdfb9387-f61c-4b46-9bed-0f6d3a50b345",
   "metadata": {},
   "source": [
    "25. Filter out all even numbers from a list."
   ]
  },
  {
   "cell_type": "code",
   "execution_count": 80,
   "id": "a513ca80-7c60-4931-b0b8-99b2bdc79c54",
   "metadata": {},
   "outputs": [
    {
     "name": "stdout",
     "output_type": "stream",
     "text": [
      "List after filtering out even numbers: [1, 3, 5, 7, 9]\n"
     ]
    }
   ],
   "source": [
    "lst=[1,2,3,4,5,6,7,8,9,10]\n",
    "\n",
    "# Use list comprehension to filter out even number\n",
    "odd_num=[i for i in lst if i%2!=0]\n",
    "\n",
    "print('List after filtering out even numbers:',odd_num)"
   ]
  },
  {
   "cell_type": "raw",
   "id": "08d2eaa8-e630-42f9-9e44-90d4c5ddcc68",
   "metadata": {},
   "source": [
    "26. Convert a list of strings to a list of integers."
   ]
  },
  {
   "cell_type": "code",
   "execution_count": 4,
   "id": "511399a5-8118-4a1c-8070-be7a26da5da9",
   "metadata": {},
   "outputs": [
    {
     "name": "stdout",
     "output_type": "stream",
     "text": [
      "Converted list:\n",
      "[1, 2, 3, 4, 5, 6]\n"
     ]
    }
   ],
   "source": [
    "str_list=['1','2','3','4','5','6']\n",
    "\n",
    "# Use list comprehension \n",
    "int_list=[int(x) for x in str_list]\n",
    "print('Converted list:')\n",
    "print(int_list)"
   ]
  },
  {
   "cell_type": "raw",
   "id": "9dbb6724-dcba-4548-984d-a5204da25228",
   "metadata": {},
   "source": [
    "27. Convert a list of integers to a list of strings."
   ]
  },
  {
   "cell_type": "code",
   "execution_count": 6,
   "id": "c1da1eb7-bf2d-4b3a-8688-98476744304e",
   "metadata": {},
   "outputs": [
    {
     "name": "stdout",
     "output_type": "stream",
     "text": [
      "The converted list:\n",
      "['1', '2', '3', '4', '5', '6', '7']\n"
     ]
    }
   ],
   "source": [
    "int_lst=[1,2,3,4,5,6,7]\n",
    "str_lst=[str(x) for x in int_lst]\n",
    "print('The converted list:')\n",
    "print(str_lst)"
   ]
  },
  {
   "cell_type": "raw",
   "id": "1094441e-ca0e-4892-93f7-6d9b05705475",
   "metadata": {},
   "source": [
    "28. Flatten a nested list."
   ]
  },
  {
   "cell_type": "code",
   "execution_count": 18,
   "id": "87d0e773-9c46-4382-bc8a-1eb0f23738af",
   "metadata": {},
   "outputs": [
    {
     "name": "stdout",
     "output_type": "stream",
     "text": [
      "The flattened list:\n",
      "[1, 2, 5, 6, 8, 5, 0, 6, 6, 3, 4]\n"
     ]
    }
   ],
   "source": [
    "def flatten_nested_list(nested_list):\n",
    "    flattened_list=[]\n",
    "    for item in nested_list:\n",
    "        if isinstance(item,list):\n",
    "            # Use recursion function\n",
    "            flattened_list.extend(flatten_nested_list(item))\n",
    "        else:\n",
    "            flattened_list.append(item)\n",
    "            \n",
    "    return flattened_list\n",
    "\n",
    "nested_list=[1,2, [5,6,8,[5,0,[6],6,],3,4,]]\n",
    "flattened_list=flatten_nested_list(nested_list)\n",
    "\n",
    "print('The flattened list:')\n",
    "print(flattened_list)\n",
    "    "
   ]
  },
  {
   "cell_type": "raw",
   "id": "e8f2a99d-0e12-4aff-bb80-8dbd4f7c56f6",
   "metadata": {},
   "source": [
    "29. Create a list of the first 10 Fibonacci numbers."
   ]
  },
  {
   "cell_type": "code",
   "execution_count": 3,
   "id": "3a98fc5b-cdab-4e3c-aa92-3a7e5e0990d7",
   "metadata": {},
   "outputs": [
    {
     "name": "stdout",
     "output_type": "stream",
     "text": [
      "The list of first ten Fibonacci numbers:\n",
      "[0, 1, 1, 2, 3, 5, 8, 13, 21, 34]\n"
     ]
    }
   ],
   "source": [
    "# Initialize the first two Fibonacci numbers\n",
    "fibonacci_list=[0,1]\n",
    "\n",
    "# Use for loop to generate next 8 Fibonacci numbers.\n",
    "\n",
    "for i in range(2,10):\n",
    "    next_fibonacci=fibonacci_list[i-1]+ fibonacci_list[i-2]\n",
    "    fibonacci_list.append(next_fibonacci)\n",
    "    \n",
    "print('The list of first ten Fibonacci numbers:')\n",
    "print(fibonacci_list)"
   ]
  },
  {
   "cell_type": "raw",
   "id": "b1113d0f-f31f-4b42-8799-4d3dcddbaf0d",
   "metadata": {},
   "source": [
    "30. Check if a list is sorted."
   ]
  },
  {
   "cell_type": "code",
   "execution_count": 11,
   "id": "5452a032-e038-4102-b2d1-a4da5e5141ce",
   "metadata": {},
   "outputs": [
    {
     "name": "stdout",
     "output_type": "stream",
     "text": [
      "The list is sorted.\n",
      "The list is not sorted.\n"
     ]
    }
   ],
   "source": [
    "def is_sorted(input_list):\n",
    "    n=len(input_list)\n",
    "    for i in range(1,n):\n",
    "        if input_list[i-1]>input_list[i]:\n",
    "            return False\n",
    "    return True\n",
    "\n",
    "# Example usage:\n",
    "sorted_list=[1,2,3,4,7,8,9]\n",
    "unsorted_list=[4,5,2,8]\n",
    "\n",
    "if is_sorted(sorted_list):\n",
    "    print('The list is sorted.')\n",
    "else:\n",
    "    print('The list is not sorted.')\n",
    "    \n",
    "if is_sorted(unsorted_list):\n",
    "    print('The list is sorted.')\n",
    "else:\n",
    "    print('The list is not sorted.')"
   ]
  },
  {
   "cell_type": "raw",
   "id": "f85fef84-44e4-45c7-a44b-ce619bc9e554",
   "metadata": {},
   "source": [
    "31. Rotate a list to the left by 'n' positions."
   ]
  },
  {
   "cell_type": "code",
   "execution_count": 27,
   "id": "6a13ad07-a777-4f49-9258-9c86c164e929",
   "metadata": {},
   "outputs": [
    {
     "name": "stdout",
     "output_type": "stream",
     "text": [
      "Rotated list:\n",
      "[4, 7, 9, 10, 4, 2, 3]\n"
     ]
    }
   ],
   "source": [
    "def rotate_left(lst,n):\n",
    "    if len(lst)==0:\n",
    "        # Nothing to rotate if list is empty\n",
    "        return lst\n",
    "    else:\n",
    "        \n",
    "        n=n%len(lst) # Ensure n is within the length of the list\n",
    "        return lst[2:]+l[:2]\n",
    "    \n",
    "# Example usage:\n",
    "my_list=[2,3,4,7,9,10,4]\n",
    "n=2 # Rotate left by 2 positions\n",
    "\n",
    "rotated_list=rotate_left(my_list,n)\n",
    "print('Rotated list:')\n",
    "print(rotated_list)"
   ]
  },
  {
   "cell_type": "raw",
   "id": "44ad0a10-8578-4f0f-8c9b-dfecdc4dac86",
   "metadata": {},
   "source": [
    "32. Rotate a list to the right by 'n' position."
   ]
  },
  {
   "cell_type": "code",
   "execution_count": 32,
   "id": "8333e73a-cdfb-43fc-9b33-633d76258f8e",
   "metadata": {},
   "outputs": [
    {
     "name": "stdin",
     "output_type": "stream",
     "text": [
      "enter position to rotate: 3\n"
     ]
    },
    {
     "name": "stdout",
     "output_type": "stream",
     "text": [
      "Rotated list:\n",
      "[8, 0, 3, 1, 4, 3, 5, 6, 9]\n"
     ]
    }
   ],
   "source": [
    "def rotate_right(lst,n):\n",
    "    if len(lst)==0: # Nothing to rotate if the list is empty\n",
    "        return lst\n",
    "    n=n%len(lst)\n",
    "    return lst[-n:] + lst[:-n]\n",
    "\n",
    "# Example usage:\n",
    "lst=[1,4,3,5,6,9,8,0,3]\n",
    "n=int(input('enter position to rotate:'))\n",
    "rotated_list=rotate_right(lst,n)\n",
    "print('Rotated list:')\n",
    "print(rotated_list)"
   ]
  },
  {
   "cell_type": "raw",
   "id": "99cfcd1f-2e12-4ef4-b668-b4c9db0a8553",
   "metadata": {},
   "source": [
    "33. Create a list of prime numbers up to 50."
   ]
  },
  {
   "cell_type": "code",
   "execution_count": 1,
   "id": "0d3cba54-f365-4f1c-8709-54e867e8c1fb",
   "metadata": {},
   "outputs": [
    {
     "name": "stdout",
     "output_type": "stream",
     "text": [
      "[2, 3, 5, 7, 11, 13, 17, 19, 23, 29, 31, 37, 41, 43, 47]\n"
     ]
    }
   ],
   "source": [
    "def is_prime(num):\n",
    "    if num<=1:\n",
    "        return False\n",
    "    if num <=3:\n",
    "        return True\n",
    "    if num%2==0 or num%3==0:\n",
    "        return False\n",
    "    i=5\n",
    "    while i*i <=num:\n",
    "        if num%i==0 or num%(i+2)==0:\n",
    "            return False\n",
    "        i+=6\n",
    "    return True\n",
    "\n",
    "# Generate a list of prime numbers up to 50\n",
    "\n",
    "prime_list=[num for num in range(2,51) if is_prime(num)]\n",
    "print(prime_list)"
   ]
  },
  {
   "cell_type": "raw",
   "id": "88bf41e7-1cec-422f-97bb-0243cad4ce19",
   "metadata": {},
   "source": [
    "34.Split a list into chunks of size 'n'."
   ]
  },
  {
   "cell_type": "code",
   "execution_count": 1,
   "id": "63ebae3e-bf71-4dec-9ee6-f60f2c6b66ef",
   "metadata": {},
   "outputs": [
    {
     "name": "stdout",
     "output_type": "stream",
     "text": [
      "[[1, 2, 3], [4, 5, 6], [7, 8, 9]]\n"
     ]
    }
   ],
   "source": [
    "def split_list_into_chunks(lst,n):\n",
    "    #Use list comprehension \n",
    "    return [lst[i:i+n] for i in range(0,len(lst),n)]\n",
    "\n",
    "my_list=[1,2,3,4,5,6,7,8,9]\n",
    "chunk_size=3\n",
    "\n",
    "chunked_list=split_list_into_chunks(my_list,chunk_size)\n",
    "print(chunked_list)"
   ]
  },
  {
   "cell_type": "raw",
   "id": "7bd637c1-14c5-4333-a060-a4221c20eae5",
   "metadata": {},
   "source": [
    "35. Find the second largest number in a list."
   ]
  },
  {
   "cell_type": "code",
   "execution_count": 8,
   "id": "8b75a89c-977e-43ff-a6a5-10c4806d2c56",
   "metadata": {},
   "outputs": [
    {
     "name": "stdout",
     "output_type": "stream",
     "text": [
      "The second largest number is: 8\n"
     ]
    }
   ],
   "source": [
    "def find_second_largest(lst):\n",
    "    if len(lst)<2:\n",
    "        return None # There is no second largest number in a list with less than two elements\n",
    "    \n",
    "    # Initialize the largest and second largest variable\n",
    "    largest=second_largest=float('-inf')\n",
    "    \n",
    "    # Iterate through the list to find the largest and second largest numbers\n",
    "    \n",
    "    for num in lst:\n",
    "        if num>largest:\n",
    "            second_largest=largest\n",
    "            largest=num\n",
    "        elif num > second_largest and num != largest:\n",
    "            second_largest=num\n",
    "    #If there is no second largest (all elements are the same), return None\n",
    "    if second_largest==float('-inf'):\n",
    "        return None\n",
    "    return second_largest\n",
    "\n",
    "# Example usage:\n",
    "\n",
    "my_list=[1,2,3,4,9,7,8]\n",
    "second_largest=find_second_largest(my_list)\n",
    "print('The second largest number is:',second_largest)"
   ]
  },
  {
   "cell_type": "raw",
   "id": "65101a04-fe49-42f2-ac3e-61e616abcfe2",
   "metadata": {},
   "source": [
    "36. Replace every element in a list with its square."
   ]
  },
  {
   "cell_type": "code",
   "execution_count": 10,
   "id": "ab8d0f98-0534-46ac-aaa8-d8283db94fcf",
   "metadata": {},
   "outputs": [
    {
     "name": "stdout",
     "output_type": "stream",
     "text": [
      "The list of elements square is:\n",
      "[1, 4, 9, 16, 25, 36, 49, 64, 81]\n"
     ]
    }
   ],
   "source": [
    "lst=[1,2,3,4,5,6,7,8,9]\n",
    "# Use list comprehension to store square of elements\n",
    "\n",
    "square_list=[i**2 for i in lst]\n",
    "\n",
    "print('The list of elements square is:')\n",
    "print(square_list)"
   ]
  },
  {
   "cell_type": "raw",
   "id": "78b64fc1-3519-42a1-95b8-c33f1b52cb39",
   "metadata": {},
   "source": [
    "37. Convert a list to a dictionary where list elements become keys and their indices become values. "
   ]
  },
  {
   "cell_type": "code",
   "execution_count": 21,
   "id": "7669f0a0-5c38-4814-b5df-1571a89b31f2",
   "metadata": {},
   "outputs": [
    {
     "name": "stdout",
     "output_type": "stream",
     "text": [
      "Converted list into dictionary.\n",
      "{2: 0, 3: 1, 4: 2, 'nag': 3, 'sen': 4, 'data': 5, 'pro': 6}\n"
     ]
    }
   ],
   "source": [
    "my_list=[2,3,4,'nag','sen','data','pro']\n",
    "\n",
    "# Use dictionary comprehension to create the dictionary\n",
    "\n",
    "my_dict={element:index for index, element in enumerate(my_list)}\n",
    "\n",
    "print('Converted list into dictionary.')\n",
    "print(my_dict)"
   ]
  },
  {
   "cell_type": "raw",
   "id": "51aafb95-3d76-45f7-b035-3b83c47803e2",
   "metadata": {},
   "source": [
    "38. Shuffle the elements of a list randomly."
   ]
  },
  {
   "cell_type": "code",
   "execution_count": 24,
   "id": "135d4fe9-b15f-4724-ac5c-46b95b0cc62d",
   "metadata": {},
   "outputs": [
    {
     "name": "stdout",
     "output_type": "stream",
     "text": [
      "The shuffled list:\n",
      "[7, 8, 'altra', 2, 'nag', 6, 3, 5, 'sen', 4]\n"
     ]
    }
   ],
   "source": [
    "import random\n",
    "\n",
    "my_list=[2,3,4,5,6,7,8,'nag','sen','altra']\n",
    "\n",
    "# shuffle the list randomly in-place\n",
    "random.shuffle(my_list)\n",
    "print('The shuffled list:')\n",
    "print(my_list)"
   ]
  },
  {
   "cell_type": "raw",
   "id": "db98a86e-e919-4462-bd33-75d1591ba522",
   "metadata": {},
   "source": [
    "39. Create a list of the first 10 factorial numbers."
   ]
  },
  {
   "cell_type": "code",
   "execution_count": 27,
   "id": "b5f3aa8e-084d-49d0-be14-8bda19a325b6",
   "metadata": {},
   "outputs": [
    {
     "name": "stdout",
     "output_type": "stream",
     "text": [
      "List of first 10 factorial numbers:\n",
      "[1, 2, 6, 24, 120, 720, 5040, 40320, 362880, 3628800]\n"
     ]
    }
   ],
   "source": [
    "def factorial(num):\n",
    "    if num==0:\n",
    "        return 1\n",
    "    else: # use recursion faction \n",
    "        return num*factorial(num-1)\n",
    "factorial_numbers=[factorial(n) for n in range(1,11)]\n",
    "print('List of first 10 factorial numbers:')\n",
    "print(factorial_numbers)"
   ]
  },
  {
   "cell_type": "raw",
   "id": "af5631ec-714f-451d-8331-a2d374bb16fe",
   "metadata": {},
   "source": [
    "40. Check if two lists have at least one element in common."
   ]
  },
  {
   "cell_type": "code",
   "execution_count": 29,
   "id": "af4d5298-cc64-45da-b270-5a8db41980cd",
   "metadata": {},
   "outputs": [
    {
     "name": "stdout",
     "output_type": "stream",
     "text": [
      "The lists have at least one common element.\n"
     ]
    }
   ],
   "source": [
    "def has_common_element(lst1,lst2):\n",
    "    set1=set(lst1)\n",
    "    set2=set(lst2)\n",
    "    \n",
    "    return len(set1.intersection(set2))>0\n",
    "\n",
    "# Example usage:\n",
    "\n",
    "lst1=[1,6,7,4,9,0]\n",
    "lst2=[5,3,8,6,2]\n",
    "result=has_common_element(lst1,lst2)\n",
    "\n",
    "if result:\n",
    "    print('The lists have at least one common element.')\n",
    "else:\n",
    "    print('The lists have no common element.')"
   ]
  },
  {
   "cell_type": "raw",
   "id": "78591f5e-d8be-4e3a-8048-4ebd0cda9bba",
   "metadata": {},
   "source": [
    "41. Remove all elements from a list."
   ]
  },
  {
   "cell_type": "code",
   "execution_count": 36,
   "id": "96feafe9-0d56-481c-b626-c2e76da55e15",
   "metadata": {},
   "outputs": [
    {
     "name": "stdout",
     "output_type": "stream",
     "text": [
      "[]\n"
     ]
    }
   ],
   "source": [
    "list77=[1,2,3,6,'full','stack','data']\n",
    "\n",
    "list77.clear()\n",
    "\n",
    "print(list77)"
   ]
  },
  {
   "cell_type": "raw",
   "id": "81973230-a883-4b2a-b797-868a59e69987",
   "metadata": {},
   "source": [
    "42. Replace negative numbers in a list with 0."
   ]
  },
  {
   "cell_type": "code",
   "execution_count": 51,
   "id": "894aea9f-9865-43ac-b2b5-860c95e3d72f",
   "metadata": {},
   "outputs": [
    {
     "name": "stdout",
     "output_type": "stream",
     "text": [
      "[2, 3, 4, 0, 2, 0, 0, 2, 3]\n"
     ]
    }
   ],
   "source": [
    "my_list=[2,3,4,-5,2,-7,-9,2,3]\n",
    "\n",
    "# Use list comprehension to replace negative numbers with 0\n",
    "modified_list=[0 if num<0 else num for num in my_list]\n",
    "\n",
    "print(modified_list)"
   ]
  },
  {
   "cell_type": "raw",
   "id": "8703c77b-19e1-494b-9051-805d4076bb9d",
   "metadata": {},
   "source": [
    "43. Convert a string into a list of words."
   ]
  },
  {
   "cell_type": "code",
   "execution_count": 53,
   "id": "3fd1bd2d-fd78-4822-8054-38c94096185d",
   "metadata": {},
   "outputs": [
    {
     "name": "stdout",
     "output_type": "stream",
     "text": [
      "list of words: ['full', 'stack', 'data', 'science', 'pro']\n"
     ]
    }
   ],
   "source": [
    "string='full stack data science pro'\n",
    "\n",
    "word_list=string.split()\n",
    "\n",
    "print('list of words:',word_list)"
   ]
  },
  {
   "cell_type": "raw",
   "id": "5bbde5a4-f94c-4d77-a38c-973025d2f2c2",
   "metadata": {},
   "source": [
    "44. Convert a list of words into a string."
   ]
  },
  {
   "cell_type": "code",
   "execution_count": 55,
   "id": "29af44a4-67c3-433d-ab0f-d9af7e13ebb6",
   "metadata": {},
   "outputs": [
    {
     "name": "stdout",
     "output_type": "stream",
     "text": [
      "full stack data science pro\n"
     ]
    }
   ],
   "source": [
    "word_list=['full','stack','data','science','pro']\n",
    "\n",
    "string4=' '.join(word_list)\n",
    "\n",
    "print(string4)"
   ]
  },
  {
   "cell_type": "raw",
   "id": "6da468ba-89ec-4f87-b21f-83d5c5fd33ab",
   "metadata": {},
   "source": [
    "45. Create a list of the first 'n' powers of 2."
   ]
  },
  {
   "cell_type": "code",
   "execution_count": 64,
   "id": "6669bf36-727a-4856-ad1d-43f87c62bee0",
   "metadata": {},
   "outputs": [
    {
     "name": "stdin",
     "output_type": "stream",
     "text": [
      "enter a number to generate powers: 10\n"
     ]
    },
    {
     "name": "stdout",
     "output_type": "stream",
     "text": [
      "list of powers of 2: [1, 2, 4, 8, 16, 32, 64, 128, 256, 512]\n"
     ]
    }
   ],
   "source": [
    "base=2\n",
    "\n",
    "n=int(input('enter a number to generate powers:'))\n",
    "\n",
    "list_of_power=[base**i for i in range(n)]\n",
    "\n",
    "print('list of powers of 2:',list_of_power)"
   ]
  },
  {
   "cell_type": "raw",
   "id": "fc621277-24d9-468f-995c-8b75100a004a",
   "metadata": {},
   "source": [
    "46. Find the longest string in a list of strings."
   ]
  },
  {
   "cell_type": "code",
   "execution_count": 2,
   "id": "45edf46a-eacb-4776-b393-ea3978c6267a",
   "metadata": {},
   "outputs": [
    {
     "name": "stdout",
     "output_type": "stream",
     "text": [
      "longest string in the list: this is the longest string\n"
     ]
    }
   ],
   "source": [
    "def find_longest_string(string_list):\n",
    "    if not string_list:\n",
    "        return None  # Return None for an empty list\n",
    "    \n",
    "    longest_string=string_list[0] # Initialize with the first string\n",
    "    \n",
    "    for string in string_list:\n",
    "        if len(string)>len(longest_string):\n",
    "            longest_string=string\n",
    "    return longest_string\n",
    "\n",
    "# Example usage:\n",
    "\n",
    "string_list=['full','stack','data','pro','this is the longest string']\n",
    "\n",
    "longest=find_longest_string(string_list)\n",
    "\n",
    "print('longest string in the list:',longest)"
   ]
  },
  {
   "cell_type": "raw",
   "id": "22d2ad77-5da4-4888-9ca9-34accdc0cc45",
   "metadata": {},
   "source": [
    "47. Find the shortest string in a list of string."
   ]
  },
  {
   "cell_type": "code",
   "execution_count": 6,
   "id": "de04e61f-597f-4afb-bae1-47931081cdc2",
   "metadata": {},
   "outputs": [
    {
     "name": "stdout",
     "output_type": "stream",
     "text": [
      "The shortest string in a list is: pro\n"
     ]
    }
   ],
   "source": [
    "def find_shortest_string(string_list):\n",
    "    if not string_list:\n",
    "        return None # Return None for an empty string\n",
    "    \n",
    "    shortest_string=string_list[0] # Initialize with first string\n",
    "    \n",
    "    for string in string_list:\n",
    "        if len(string)<len(shortest_string):\n",
    "            shortest_string=string\n",
    "            \n",
    "    return shortest_string\n",
    "\n",
    "string_list=['full','stack','data','science','pro','analyst','data engineer']\n",
    "shortest=find_shortest_string(string_list)\n",
    "\n",
    "print('The shortest string in a list is:',shortest)"
   ]
  },
  {
   "cell_type": "raw",
   "id": "ad2604d3-afc8-4fc5-8dc6-3b5c2f62352c",
   "metadata": {},
   "source": [
    "48. Create a list of the first 'n' triangular numbers."
   ]
  },
  {
   "cell_type": "code",
   "execution_count": 15,
   "id": "dc324e0a-3eaa-42e9-900c-f59a36f2d274",
   "metadata": {},
   "outputs": [
    {
     "name": "stdin",
     "output_type": "stream",
     "text": [
      "enter number to generate first triangular numbers: 10\n"
     ]
    },
    {
     "name": "stdout",
     "output_type": "stream",
     "text": [
      "The first 10 triangular numbers are:\n",
      "[1, 3, 6, 10, 15, 21, 28, 36, 45, 55]\n"
     ]
    }
   ],
   "source": [
    "def Create_triangular_numbers(n):\n",
    "    triangular_num=[]\n",
    "    total=0\n",
    "    for i in range(1,n+1):\n",
    "        total+=i\n",
    "        triangular_num.append(total)\n",
    "    return triangular_num\n",
    "        \n",
    "n=int(input('enter number to generate first triangular numbers:'))\n",
    "\n",
    "result=Create_triangular_numbers(n)\n",
    "print(f'The first {n} triangular numbers are:')\n",
    "print(result)"
   ]
  },
  {
   "cell_type": "raw",
   "id": "2a8f405b-8650-419e-891b-0fbaa33f7a3b",
   "metadata": {},
   "source": [
    "49. Check if a list contains another list as a subsequence."
   ]
  },
  {
   "cell_type": "code",
   "execution_count": 1,
   "id": "2b9a18b8-55ac-4160-a810-8fd98678d8f9",
   "metadata": {},
   "outputs": [
    {
     "name": "stdout",
     "output_type": "stream",
     "text": [
      "The mainlist contain sublist as subsequence.\n"
     ]
    }
   ],
   "source": [
    "def is_subsequence(sublist,mainlist):\n",
    "    sub_len=len(sublist)\n",
    "    main_len=len(mainlist)\n",
    "    \n",
    "    i=0 # Index for the sublist\n",
    "    j=0 # Index for the mainlist\n",
    "    \n",
    "    while i<sub_len and j<main_len:\n",
    "        if sublist[i]==mainlist[j]:\n",
    "            i+=1\n",
    "        j+=1\n",
    "        \n",
    "    return i==sub_len\n",
    "\n",
    "# Example usage:\n",
    "\n",
    "mainlist=[1,2,3,4,5,6,7,8,9]\n",
    "sublist=[4,6,9]\n",
    "\n",
    "if is_subsequence(sublist,mainlist):\n",
    "    print('The mainlist contain sublist as subsequence.')\n",
    "else:\n",
    "    print('The mainlist not contain sublist as a subsequence.')\n",
    "    \n",
    "    \n"
   ]
  },
  {
   "cell_type": "raw",
   "id": "8ae420fa-26a5-47bb-b71a-01ab71987443",
   "metadata": {},
   "source": [
    "50. Swap two elements in a list by their indices."
   ]
  },
  {
   "cell_type": "code",
   "execution_count": 2,
   "id": "94c56ec0-1e80-4a34-b970-10acdc5dbe5d",
   "metadata": {},
   "outputs": [
    {
     "name": "stdout",
     "output_type": "stream",
     "text": [
      "[1, 2, 6, 3, 4, 5, 7, 9, 8]\n"
     ]
    }
   ],
   "source": [
    "lst=[1,2,4,3,6,5,7,9,8]\n",
    "\n",
    "lst[2]=6\n",
    "lst[4]=4\n",
    "\n",
    "print(lst)"
   ]
  },
  {
   "cell_type": "code",
   "execution_count": null,
   "id": "de7d370f-9984-410e-80cf-6d86b144cf8c",
   "metadata": {},
   "outputs": [],
   "source": []
  }
 ],
 "metadata": {
  "kernelspec": {
   "display_name": "Python 3 (ipykernel)",
   "language": "python",
   "name": "python3"
  },
  "language_info": {
   "codemirror_mode": {
    "name": "ipython",
    "version": 3
   },
   "file_extension": ".py",
   "mimetype": "text/x-python",
   "name": "python",
   "nbconvert_exporter": "python",
   "pygments_lexer": "ipython3",
   "version": "3.10.8"
  }
 },
 "nbformat": 4,
 "nbformat_minor": 5
}
